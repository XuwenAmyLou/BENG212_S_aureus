{
 "cells": [
  {
   "cell_type": "markdown",
   "metadata": {},
   "source": [
    "# Creating the Gene Table\n",
    "This notebook is copied from the [Pymodulon GitHub repository](https://github.com/SBRG/pymodulon/blob/master/docs/tutorials/creating_the_gene_table.ipynb)"
   ]
  },
  {
   "cell_type": "markdown",
   "metadata": {},
   "source": [
    "## Get information from GFF files"
   ]
  },
  {
   "cell_type": "code",
   "execution_count": 1,
   "metadata": {},
   "outputs": [],
   "source": [
    "from pymodulon.gene_util import *\n",
    "import os"
   ]
  },
  {
   "cell_type": "markdown",
   "metadata": {},
   "source": [
    "First, download the FASTA and GFF files for your organism and its plasmids from NCBI."
   ]
  },
  {
   "cell_type": "markdown",
   "metadata": {},
   "source": [
    "Enter the location of all your GFF files here:"
   ]
  },
  {
   "cell_type": "code",
   "execution_count": 2,
   "metadata": {},
   "outputs": [],
   "source": [
    "gff_files = [os.path.join('saureus.gff')]"
   ]
  },
  {
   "cell_type": "markdown",
   "metadata": {},
   "source": [
    "The following cell will convert all the GFF files into a single Pandas DataFrame for easy manipulation. Pseudogenes have multiple rows in a GFF file (one for each fragment), but only the first fragment will be kept."
   ]
  },
  {
   "cell_type": "code",
   "execution_count": 3,
   "metadata": {},
   "outputs": [
    {
     "data": {
      "text/html": [
       "<div>\n",
       "<style scoped>\n",
       "    .dataframe tbody tr th:only-of-type {\n",
       "        vertical-align: middle;\n",
       "    }\n",
       "\n",
       "    .dataframe tbody tr th {\n",
       "        vertical-align: top;\n",
       "    }\n",
       "\n",
       "    .dataframe thead th {\n",
       "        text-align: right;\n",
       "    }\n",
       "</style>\n",
       "<table border=\"1\" class=\"dataframe\">\n",
       "  <thead>\n",
       "    <tr style=\"text-align: right;\">\n",
       "      <th></th>\n",
       "      <th>accession</th>\n",
       "      <th>start</th>\n",
       "      <th>end</th>\n",
       "      <th>strand</th>\n",
       "      <th>gene_name</th>\n",
       "      <th>old_locus_tag</th>\n",
       "      <th>gene_product</th>\n",
       "      <th>ncbi_protein</th>\n",
       "    </tr>\n",
       "    <tr>\n",
       "      <th>locus_tag</th>\n",
       "      <th></th>\n",
       "      <th></th>\n",
       "      <th></th>\n",
       "      <th></th>\n",
       "      <th></th>\n",
       "      <th></th>\n",
       "      <th></th>\n",
       "      <th></th>\n",
       "    </tr>\n",
       "  </thead>\n",
       "  <tbody>\n",
       "    <tr>\n",
       "      <th>SAOUHSC_00001</th>\n",
       "      <td>NC_007795.1</td>\n",
       "      <td>517.0</td>\n",
       "      <td>1878.0</td>\n",
       "      <td>+</td>\n",
       "      <td>dnaA</td>\n",
       "      <td>None</td>\n",
       "      <td>chromosomal replication initiation protein</td>\n",
       "      <td>YP_498609.1</td>\n",
       "    </tr>\n",
       "    <tr>\n",
       "      <th>SAOUHSC_00002</th>\n",
       "      <td>NC_007795.1</td>\n",
       "      <td>2156.0</td>\n",
       "      <td>3289.0</td>\n",
       "      <td>+</td>\n",
       "      <td>None</td>\n",
       "      <td>None</td>\n",
       "      <td>DNA polymerase III subunit beta</td>\n",
       "      <td>YP_498610.1</td>\n",
       "    </tr>\n",
       "    <tr>\n",
       "      <th>SAOUHSC_00003</th>\n",
       "      <td>NC_007795.1</td>\n",
       "      <td>3670.0</td>\n",
       "      <td>3915.0</td>\n",
       "      <td>+</td>\n",
       "      <td>None</td>\n",
       "      <td>None</td>\n",
       "      <td>hypothetical protein</td>\n",
       "      <td>YP_498611.1</td>\n",
       "    </tr>\n",
       "    <tr>\n",
       "      <th>SAOUHSC_00004</th>\n",
       "      <td>NC_007795.1</td>\n",
       "      <td>3912.0</td>\n",
       "      <td>5024.0</td>\n",
       "      <td>+</td>\n",
       "      <td>recF</td>\n",
       "      <td>None</td>\n",
       "      <td>recombination protein F</td>\n",
       "      <td>YP_498612.1</td>\n",
       "    </tr>\n",
       "    <tr>\n",
       "      <th>SAOUHSC_00005</th>\n",
       "      <td>NC_007795.1</td>\n",
       "      <td>5034.0</td>\n",
       "      <td>6968.0</td>\n",
       "      <td>+</td>\n",
       "      <td>None</td>\n",
       "      <td>None</td>\n",
       "      <td>DNA gyrase subunit B</td>\n",
       "      <td>YP_498613.1</td>\n",
       "    </tr>\n",
       "  </tbody>\n",
       "</table>\n",
       "</div>"
      ],
      "text/plain": [
       "                 accession   start     end strand gene_name old_locus_tag  \\\n",
       "locus_tag                                                                   \n",
       "SAOUHSC_00001  NC_007795.1   517.0  1878.0      +      dnaA          None   \n",
       "SAOUHSC_00002  NC_007795.1  2156.0  3289.0      +      None          None   \n",
       "SAOUHSC_00003  NC_007795.1  3670.0  3915.0      +      None          None   \n",
       "SAOUHSC_00004  NC_007795.1  3912.0  5024.0      +      recF          None   \n",
       "SAOUHSC_00005  NC_007795.1  5034.0  6968.0      +      None          None   \n",
       "\n",
       "                                             gene_product ncbi_protein  \n",
       "locus_tag                                                               \n",
       "SAOUHSC_00001  chromosomal replication initiation protein  YP_498609.1  \n",
       "SAOUHSC_00002             DNA polymerase III subunit beta  YP_498610.1  \n",
       "SAOUHSC_00003                        hypothetical protein  YP_498611.1  \n",
       "SAOUHSC_00004                     recombination protein F  YP_498612.1  \n",
       "SAOUHSC_00005                        DNA gyrase subunit B  YP_498613.1  "
      ]
     },
     "execution_count": 3,
     "metadata": {},
     "output_type": "execute_result"
    }
   ],
   "source": [
    "keep_cols = ['accession','start','end','strand','gene_name','old_locus_tag','gene_product','ncbi_protein']\n",
    "\n",
    "DF_annot = gff2pandas(gff_files,index='locus_tag')\n",
    "DF_annot = DF_annot[keep_cols]\n",
    "\n",
    "DF_annot.head()"
   ]
  },
  {
   "cell_type": "markdown",
   "metadata": {},
   "source": [
    "To ensure that the gene index used is identical to the expression matrix, load in your data."
   ]
  },
  {
   "cell_type": "code",
   "execution_count": 4,
   "metadata": {},
   "outputs": [
    {
     "data": {
      "text/html": [
       "<div>\n",
       "<style scoped>\n",
       "    .dataframe tbody tr th:only-of-type {\n",
       "        vertical-align: middle;\n",
       "    }\n",
       "\n",
       "    .dataframe tbody tr th {\n",
       "        vertical-align: top;\n",
       "    }\n",
       "\n",
       "    .dataframe thead th {\n",
       "        text-align: right;\n",
       "    }\n",
       "</style>\n",
       "<table border=\"1\" class=\"dataframe\">\n",
       "  <thead>\n",
       "    <tr style=\"text-align: right;\">\n",
       "      <th></th>\n",
       "      <th>DRX300641</th>\n",
       "      <th>DRX300642</th>\n",
       "      <th>DRX300643</th>\n",
       "      <th>ERX1222798</th>\n",
       "      <th>ERX1222799</th>\n",
       "      <th>ERX1222800</th>\n",
       "      <th>ERX2826862</th>\n",
       "      <th>ERX2826863</th>\n",
       "      <th>ERX2826864</th>\n",
       "      <th>ERX2826865</th>\n",
       "      <th>...</th>\n",
       "      <th>SRX9634010</th>\n",
       "      <th>SRX9634011</th>\n",
       "      <th>SRX9634012</th>\n",
       "      <th>SRX9634015</th>\n",
       "      <th>SRX9634016</th>\n",
       "      <th>SRX9634017</th>\n",
       "      <th>SRX9634018</th>\n",
       "      <th>SRX9634019</th>\n",
       "      <th>SRX9634020</th>\n",
       "      <th>SRX965931</th>\n",
       "    </tr>\n",
       "    <tr>\n",
       "      <th>Geneid</th>\n",
       "      <th></th>\n",
       "      <th></th>\n",
       "      <th></th>\n",
       "      <th></th>\n",
       "      <th></th>\n",
       "      <th></th>\n",
       "      <th></th>\n",
       "      <th></th>\n",
       "      <th></th>\n",
       "      <th></th>\n",
       "      <th></th>\n",
       "      <th></th>\n",
       "      <th></th>\n",
       "      <th></th>\n",
       "      <th></th>\n",
       "      <th></th>\n",
       "      <th></th>\n",
       "      <th></th>\n",
       "      <th></th>\n",
       "      <th></th>\n",
       "      <th></th>\n",
       "    </tr>\n",
       "  </thead>\n",
       "  <tbody>\n",
       "    <tr>\n",
       "      <th>SAOUHSC_00001</th>\n",
       "      <td>8.075960</td>\n",
       "      <td>7.913237</td>\n",
       "      <td>8.103539</td>\n",
       "      <td>8.231650</td>\n",
       "      <td>7.480144</td>\n",
       "      <td>7.833791</td>\n",
       "      <td>8.829448</td>\n",
       "      <td>8.936380</td>\n",
       "      <td>8.989139</td>\n",
       "      <td>8.942718</td>\n",
       "      <td>...</td>\n",
       "      <td>8.813741</td>\n",
       "      <td>8.461149</td>\n",
       "      <td>9.068514</td>\n",
       "      <td>8.446301</td>\n",
       "      <td>8.447756</td>\n",
       "      <td>8.781591</td>\n",
       "      <td>8.768944</td>\n",
       "      <td>8.520810</td>\n",
       "      <td>8.565999</td>\n",
       "      <td>8.558046</td>\n",
       "    </tr>\n",
       "    <tr>\n",
       "      <th>SAOUHSC_00002</th>\n",
       "      <td>8.491571</td>\n",
       "      <td>8.599078</td>\n",
       "      <td>8.401215</td>\n",
       "      <td>9.433116</td>\n",
       "      <td>8.726581</td>\n",
       "      <td>9.329891</td>\n",
       "      <td>8.962073</td>\n",
       "      <td>9.160966</td>\n",
       "      <td>9.290196</td>\n",
       "      <td>8.992331</td>\n",
       "      <td>...</td>\n",
       "      <td>9.093600</td>\n",
       "      <td>8.482311</td>\n",
       "      <td>8.937456</td>\n",
       "      <td>8.529349</td>\n",
       "      <td>8.782375</td>\n",
       "      <td>9.033129</td>\n",
       "      <td>9.018110</td>\n",
       "      <td>8.161739</td>\n",
       "      <td>8.052105</td>\n",
       "      <td>8.127758</td>\n",
       "    </tr>\n",
       "    <tr>\n",
       "      <th>SAOUHSC_00003</th>\n",
       "      <td>9.304385</td>\n",
       "      <td>8.849633</td>\n",
       "      <td>8.676897</td>\n",
       "      <td>7.504135</td>\n",
       "      <td>8.411847</td>\n",
       "      <td>8.858987</td>\n",
       "      <td>8.747960</td>\n",
       "      <td>8.976711</td>\n",
       "      <td>8.626191</td>\n",
       "      <td>8.742656</td>\n",
       "      <td>...</td>\n",
       "      <td>8.714124</td>\n",
       "      <td>8.020151</td>\n",
       "      <td>8.725003</td>\n",
       "      <td>8.142546</td>\n",
       "      <td>7.577228</td>\n",
       "      <td>7.810381</td>\n",
       "      <td>7.797447</td>\n",
       "      <td>7.668054</td>\n",
       "      <td>7.790997</td>\n",
       "      <td>7.671018</td>\n",
       "    </tr>\n",
       "    <tr>\n",
       "      <th>SAOUHSC_00004</th>\n",
       "      <td>9.119361</td>\n",
       "      <td>9.325414</td>\n",
       "      <td>8.971591</td>\n",
       "      <td>9.298017</td>\n",
       "      <td>9.538484</td>\n",
       "      <td>9.230754</td>\n",
       "      <td>8.412644</td>\n",
       "      <td>8.391423</td>\n",
       "      <td>8.605931</td>\n",
       "      <td>8.362605</td>\n",
       "      <td>...</td>\n",
       "      <td>9.841963</td>\n",
       "      <td>9.298584</td>\n",
       "      <td>9.323726</td>\n",
       "      <td>9.137359</td>\n",
       "      <td>8.794212</td>\n",
       "      <td>9.041146</td>\n",
       "      <td>9.083412</td>\n",
       "      <td>9.373125</td>\n",
       "      <td>9.467331</td>\n",
       "      <td>9.312853</td>\n",
       "    </tr>\n",
       "    <tr>\n",
       "      <th>SAOUHSC_00005</th>\n",
       "      <td>9.548104</td>\n",
       "      <td>9.573234</td>\n",
       "      <td>9.433046</td>\n",
       "      <td>9.791319</td>\n",
       "      <td>10.199322</td>\n",
       "      <td>9.799053</td>\n",
       "      <td>8.949354</td>\n",
       "      <td>8.885628</td>\n",
       "      <td>9.152409</td>\n",
       "      <td>8.849877</td>\n",
       "      <td>...</td>\n",
       "      <td>8.902671</td>\n",
       "      <td>8.890497</td>\n",
       "      <td>9.024617</td>\n",
       "      <td>8.658290</td>\n",
       "      <td>8.178211</td>\n",
       "      <td>8.635210</td>\n",
       "      <td>8.599545</td>\n",
       "      <td>9.773655</td>\n",
       "      <td>9.854817</td>\n",
       "      <td>9.969962</td>\n",
       "    </tr>\n",
       "  </tbody>\n",
       "</table>\n",
       "<p>5 rows × 337 columns</p>\n",
       "</div>"
      ],
      "text/plain": [
       "               DRX300641  DRX300642  DRX300643  ERX1222798  ERX1222799  \\\n",
       "Geneid                                                                   \n",
       "SAOUHSC_00001   8.075960   7.913237   8.103539    8.231650    7.480144   \n",
       "SAOUHSC_00002   8.491571   8.599078   8.401215    9.433116    8.726581   \n",
       "SAOUHSC_00003   9.304385   8.849633   8.676897    7.504135    8.411847   \n",
       "SAOUHSC_00004   9.119361   9.325414   8.971591    9.298017    9.538484   \n",
       "SAOUHSC_00005   9.548104   9.573234   9.433046    9.791319   10.199322   \n",
       "\n",
       "               ERX1222800  ERX2826862  ERX2826863  ERX2826864  ERX2826865  \\\n",
       "Geneid                                                                      \n",
       "SAOUHSC_00001    7.833791    8.829448    8.936380    8.989139    8.942718   \n",
       "SAOUHSC_00002    9.329891    8.962073    9.160966    9.290196    8.992331   \n",
       "SAOUHSC_00003    8.858987    8.747960    8.976711    8.626191    8.742656   \n",
       "SAOUHSC_00004    9.230754    8.412644    8.391423    8.605931    8.362605   \n",
       "SAOUHSC_00005    9.799053    8.949354    8.885628    9.152409    8.849877   \n",
       "\n",
       "               ...  SRX9634010  SRX9634011  SRX9634012  SRX9634015  \\\n",
       "Geneid         ...                                                   \n",
       "SAOUHSC_00001  ...    8.813741    8.461149    9.068514    8.446301   \n",
       "SAOUHSC_00002  ...    9.093600    8.482311    8.937456    8.529349   \n",
       "SAOUHSC_00003  ...    8.714124    8.020151    8.725003    8.142546   \n",
       "SAOUHSC_00004  ...    9.841963    9.298584    9.323726    9.137359   \n",
       "SAOUHSC_00005  ...    8.902671    8.890497    9.024617    8.658290   \n",
       "\n",
       "               SRX9634016  SRX9634017  SRX9634018  SRX9634019  SRX9634020  \\\n",
       "Geneid                                                                      \n",
       "SAOUHSC_00001    8.447756    8.781591    8.768944    8.520810    8.565999   \n",
       "SAOUHSC_00002    8.782375    9.033129    9.018110    8.161739    8.052105   \n",
       "SAOUHSC_00003    7.577228    7.810381    7.797447    7.668054    7.790997   \n",
       "SAOUHSC_00004    8.794212    9.041146    9.083412    9.373125    9.467331   \n",
       "SAOUHSC_00005    8.178211    8.635210    8.599545    9.773655    9.854817   \n",
       "\n",
       "               SRX965931  \n",
       "Geneid                    \n",
       "SAOUHSC_00001   8.558046  \n",
       "SAOUHSC_00002   8.127758  \n",
       "SAOUHSC_00003   7.671018  \n",
       "SAOUHSC_00004   9.312853  \n",
       "SAOUHSC_00005   9.969962  \n",
       "\n",
       "[5 rows x 337 columns]"
      ]
     },
     "execution_count": 4,
     "metadata": {},
     "output_type": "execute_result"
    }
   ],
   "source": [
    "log_tpm_file = os.path.join('log_tpm.csv')\n",
    "DF_log_tpm = pd.read_csv(log_tpm_file,index_col=0)\n",
    "DF_log_tpm.head()"
   ]
  },
  {
   "cell_type": "markdown",
   "metadata": {},
   "source": [
    "Check that the genes are the same in the expression dataset as in the annotation dataframe. Mismatched genes are listed below."
   ]
  },
  {
   "cell_type": "code",
   "execution_count": 5,
   "metadata": {},
   "outputs": [
    {
     "data": {
      "text/html": [
       "<div>\n",
       "<style scoped>\n",
       "    .dataframe tbody tr th:only-of-type {\n",
       "        vertical-align: middle;\n",
       "    }\n",
       "\n",
       "    .dataframe tbody tr th {\n",
       "        vertical-align: top;\n",
       "    }\n",
       "\n",
       "    .dataframe thead th {\n",
       "        text-align: right;\n",
       "    }\n",
       "</style>\n",
       "<table border=\"1\" class=\"dataframe\">\n",
       "  <thead>\n",
       "    <tr style=\"text-align: right;\">\n",
       "      <th></th>\n",
       "      <th>accession</th>\n",
       "      <th>start</th>\n",
       "      <th>end</th>\n",
       "      <th>strand</th>\n",
       "      <th>gene_name</th>\n",
       "      <th>old_locus_tag</th>\n",
       "      <th>gene_product</th>\n",
       "      <th>ncbi_protein</th>\n",
       "    </tr>\n",
       "    <tr>\n",
       "      <th>locus_tag</th>\n",
       "      <th></th>\n",
       "      <th></th>\n",
       "      <th></th>\n",
       "      <th></th>\n",
       "      <th></th>\n",
       "      <th></th>\n",
       "      <th></th>\n",
       "      <th></th>\n",
       "    </tr>\n",
       "  </thead>\n",
       "  <tbody>\n",
       "  </tbody>\n",
       "</table>\n",
       "</div>"
      ],
      "text/plain": [
       "Empty DataFrame\n",
       "Columns: [accession, start, end, strand, gene_name, old_locus_tag, gene_product, ncbi_protein]\n",
       "Index: []"
      ]
     },
     "execution_count": 5,
     "metadata": {},
     "output_type": "execute_result"
    }
   ],
   "source": [
    "test = DF_annot.sort_index().index == DF_log_tpm.sort_index().index\n",
    "DF_annot[~test]"
   ]
  },
  {
   "cell_type": "markdown",
   "metadata": {},
   "source": [
    "## (Optional) KEGG and COGs"
   ]
  },
  {
   "cell_type": "markdown",
   "metadata": {},
   "source": [
    "### Generate nucleotide fasta files for CDS"
   ]
  },
  {
   "cell_type": "markdown",
   "metadata": {},
   "source": [
    "Enter the location of all your fasta files here:"
   ]
  },
  {
   "cell_type": "code",
   "execution_count": 6,
   "metadata": {},
   "outputs": [],
   "source": [
    "fasta_files = [os.path.join('saureus.fna')]"
   ]
  },
  {
   "cell_type": "markdown",
   "metadata": {},
   "source": [
    "The following code generates CDS files using your FASTA and GFF3 files"
   ]
  },
  {
   "cell_type": "code",
   "execution_count": 7,
   "metadata": {},
   "outputs": [],
   "source": [
    "from Bio import SeqIO\n",
    "\n",
    "cds_list = []\n",
    "for fasta in fasta_files:\n",
    "    seq = SeqIO.read(fasta,'fasta')\n",
    "\n",
    "    # Get gene information for genes in this fasta file\n",
    "    df_genes = DF_annot[DF_annot.accession == seq.id]\n",
    "    \n",
    "    for i,row in df_genes.iterrows():\n",
    "        cds = seq[int(row.start)-1:int(row.end)] #Added int() heredue to errors\n",
    "        if row.strand == '-':\n",
    "            cds = seq[int(row.start)-1:int(row.end)].reverse_complement()  #Added int() heredue to errors\n",
    "        cds.id = row.name\n",
    "        cds.description = row.gene_name if pd.notnull(row.gene_name) else row.name\n",
    "        cds_list.append(cds)"
   ]
  },
  {
   "cell_type": "code",
   "execution_count": 8,
   "metadata": {},
   "outputs": [
    {
     "data": {
      "text/plain": [
       "[SeqRecord(seq=Seq('ATGTCGGAAAAAGAAATTTGGGAAAAAGTGCTTGAAATTGCTCAAGAAAAATTA...TAA'), id='SAOUHSC_00001', name='NC_007795.1', description='dnaA', dbxrefs=[]),\n",
       " SeqRecord(seq=Seq('ATGATGGAATTCACTATTAAAAGAGATTATTTTATTACACAATTAAATGACACA...TAA'), id='SAOUHSC_00002', name='NC_007795.1', description='SAOUHSC_00002', dbxrefs=[]),\n",
       " SeqRecord(seq=Seq('GTGATTATTTTGGTTCAAGAAGTTGTAGTAGAAGGAGACATTAATTTAGGTCAA...TGA'), id='SAOUHSC_00003', name='NC_007795.1', description='SAOUHSC_00003', dbxrefs=[]),\n",
       " SeqRecord(seq=Seq('ATGAAGTTAAATACACTCCAATTAGAAAATTATCGTAACTATGATGAGGTTACG...TAA'), id='SAOUHSC_00004', name='NC_007795.1', description='recF', dbxrefs=[]),\n",
       " SeqRecord(seq=Seq('ATGGTGACTGCATTGTCAGATGTAAACAACACGGATAATTATGGTGCTGGGCAA...TAA'), id='SAOUHSC_00005', name='NC_007795.1', description='SAOUHSC_00005', dbxrefs=[])]"
      ]
     },
     "execution_count": 8,
     "metadata": {},
     "output_type": "execute_result"
    }
   ],
   "source": [
    "cds_list[:5]"
   ]
  },
  {
   "cell_type": "markdown",
   "metadata": {},
   "source": [
    "Save the CDS file"
   ]
  },
  {
   "cell_type": "code",
   "execution_count": 9,
   "metadata": {
    "scrolled": true
   },
   "outputs": [
    {
     "data": {
      "text/plain": [
       "2767"
      ]
     },
     "execution_count": 9,
     "metadata": {},
     "output_type": "execute_result"
    }
   ],
   "source": [
    "cds_file = os.path.join('CDS_files','CDS.fna')\n",
    "SeqIO.write(cds_list, cds_file, 'fasta')"
   ]
  },
  {
   "cell_type": "markdown",
   "metadata": {},
   "source": [
    "### Run EggNOG Mapper\n",
    "1. Go to http://eggnog-mapper.embl.de/.\n",
    "1. Upload the CDS.fna file from your organism directory (within the sequence_files folder)\n",
    "1. Make sure to limit the taxonomy to the correct level\n",
    "1. After the job is submitted, you must follow the link in your email to run the job.\n",
    "1. Once the job completes (after ~4 hrs), download the annotations file.\n",
    "1. Save the annotation file"
   ]
  },
  {
   "cell_type": "markdown",
   "metadata": {},
   "source": [
    "### Get KEGG IDs"
   ]
  },
  {
   "cell_type": "markdown",
   "metadata": {},
   "source": [
    "Once you have the EggNOG annotations, load the annotation file"
   ]
  },
  {
   "cell_type": "code",
   "execution_count": 10,
   "metadata": {},
   "outputs": [],
   "source": [
    "eggnog_file = os.path.join('eggNOG','MM_pqq12tbj.emapper.annotations.txt')"
   ]
  },
  {
   "cell_type": "code",
   "execution_count": 11,
   "metadata": {},
   "outputs": [
    {
     "data": {
      "text/html": [
       "<div>\n",
       "<style scoped>\n",
       "    .dataframe tbody tr th:only-of-type {\n",
       "        vertical-align: middle;\n",
       "    }\n",
       "\n",
       "    .dataframe tbody tr th {\n",
       "        vertical-align: top;\n",
       "    }\n",
       "\n",
       "    .dataframe thead th {\n",
       "        text-align: right;\n",
       "    }\n",
       "</style>\n",
       "<table border=\"1\" class=\"dataframe\">\n",
       "  <thead>\n",
       "    <tr style=\"text-align: right;\">\n",
       "      <th></th>\n",
       "      <th>seed eggNOG ortholog</th>\n",
       "      <th>seed ortholog evalue</th>\n",
       "      <th>seed ortholog score</th>\n",
       "      <th>Predicted taxonomic group</th>\n",
       "      <th>Predicted protein name</th>\n",
       "      <th>Gene Ontology terms</th>\n",
       "      <th>EC number</th>\n",
       "      <th>KEGG_orth</th>\n",
       "      <th>KEGG_pathway</th>\n",
       "      <th>KEGG_module</th>\n",
       "      <th>KEGG_reaction</th>\n",
       "      <th>KEGG_rclass</th>\n",
       "      <th>BRITE</th>\n",
       "      <th>KEGG_TC</th>\n",
       "      <th>CAZy</th>\n",
       "      <th>BiGG Reaction</th>\n",
       "      <th>tax_scope</th>\n",
       "      <th>eggNOG OGs</th>\n",
       "      <th>bestOG_deprecated</th>\n",
       "      <th>COG</th>\n",
       "    </tr>\n",
       "    <tr>\n",
       "      <th>locus_tag</th>\n",
       "      <th></th>\n",
       "      <th></th>\n",
       "      <th></th>\n",
       "      <th></th>\n",
       "      <th></th>\n",
       "      <th></th>\n",
       "      <th></th>\n",
       "      <th></th>\n",
       "      <th></th>\n",
       "      <th></th>\n",
       "      <th></th>\n",
       "      <th></th>\n",
       "      <th></th>\n",
       "      <th></th>\n",
       "      <th></th>\n",
       "      <th></th>\n",
       "      <th></th>\n",
       "      <th></th>\n",
       "      <th></th>\n",
       "      <th></th>\n",
       "    </tr>\n",
       "  </thead>\n",
       "  <tbody>\n",
       "    <tr>\n",
       "      <th>#query</th>\n",
       "      <td>seed_ortholog</td>\n",
       "      <td>evalue</td>\n",
       "      <td>score</td>\n",
       "      <td>eggNOG_OGs</td>\n",
       "      <td>max_annot_lvl</td>\n",
       "      <td>COG_category</td>\n",
       "      <td>Description</td>\n",
       "      <td>Preferred_name</td>\n",
       "      <td>GOs</td>\n",
       "      <td>EC</td>\n",
       "      <td>KEGG_ko</td>\n",
       "      <td>KEGG_Pathway</td>\n",
       "      <td>KEGG_Module</td>\n",
       "      <td>KEGG_Reaction</td>\n",
       "      <td>KEGG_rclass</td>\n",
       "      <td>BRITE</td>\n",
       "      <td>KEGG_TC</td>\n",
       "      <td>CAZy</td>\n",
       "      <td>BiGG_Reaction</td>\n",
       "      <td>PFAMs</td>\n",
       "    </tr>\n",
       "    <tr>\n",
       "      <th>SAOUHSC_00001</th>\n",
       "      <td>525378.HMPREF0793_1044</td>\n",
       "      <td>1.94e-280</td>\n",
       "      <td>772.0</td>\n",
       "      <td>COG0593@1|root,COG0593@2|Bacteria,1TPV7@1239|F...</td>\n",
       "      <td>91061|Bacilli</td>\n",
       "      <td>L</td>\n",
       "      <td>it binds specifically double-stranded DNA at a...</td>\n",
       "      <td>dnaA</td>\n",
       "      <td>GO:0003674,GO:0003676,GO:0003677,GO:0003688,GO...</td>\n",
       "      <td>-</td>\n",
       "      <td>ko:K02313</td>\n",
       "      <td>ko02020,ko04112,map02020,map04112</td>\n",
       "      <td>-</td>\n",
       "      <td>-</td>\n",
       "      <td>-</td>\n",
       "      <td>ko00000,ko00001,ko03032,ko03036</td>\n",
       "      <td>-</td>\n",
       "      <td>-</td>\n",
       "      <td>-</td>\n",
       "      <td>Bac_DnaA,Bac_DnaA_C,DnaA_N</td>\n",
       "    </tr>\n",
       "    <tr>\n",
       "      <th>SAOUHSC_00002</th>\n",
       "      <td>1280.SAXN108_0003</td>\n",
       "      <td>4.23e-268</td>\n",
       "      <td>734.0</td>\n",
       "      <td>COG0592@1|root,COG0592@2|Bacteria,1TQ7J@1239|F...</td>\n",
       "      <td>91061|Bacilli</td>\n",
       "      <td>L</td>\n",
       "      <td>Confers DNA tethering and processivity to DNA ...</td>\n",
       "      <td>dnaN</td>\n",
       "      <td>-</td>\n",
       "      <td>2.7.7.7</td>\n",
       "      <td>ko:K02338</td>\n",
       "      <td>ko00230,ko00240,ko01100,ko03030,ko03430,ko0344...</td>\n",
       "      <td>M00260</td>\n",
       "      <td>R00375,R00376,R00377,R00378</td>\n",
       "      <td>RC02795</td>\n",
       "      <td>ko00000,ko00001,ko00002,ko01000,ko03032,ko03400</td>\n",
       "      <td>-</td>\n",
       "      <td>-</td>\n",
       "      <td>-</td>\n",
       "      <td>DNA_pol3_beta,DNA_pol3_beta_2,DNA_pol3_beta_3</td>\n",
       "    </tr>\n",
       "    <tr>\n",
       "      <th>SAOUHSC_00003</th>\n",
       "      <td>1280.SAXN108_0004</td>\n",
       "      <td>1.56e-49</td>\n",
       "      <td>157.0</td>\n",
       "      <td>COG2501@1|root,COG2501@2|Bacteria,1VEJ2@1239|F...</td>\n",
       "      <td>91061|Bacilli</td>\n",
       "      <td>S</td>\n",
       "      <td>S4 domain</td>\n",
       "      <td>yaaA</td>\n",
       "      <td>-</td>\n",
       "      <td>-</td>\n",
       "      <td>ko:K14761</td>\n",
       "      <td>-</td>\n",
       "      <td>-</td>\n",
       "      <td>-</td>\n",
       "      <td>-</td>\n",
       "      <td>ko00000,ko03009</td>\n",
       "      <td>-</td>\n",
       "      <td>-</td>\n",
       "      <td>-</td>\n",
       "      <td>S4_2</td>\n",
       "    </tr>\n",
       "    <tr>\n",
       "      <th>SAOUHSC_00004</th>\n",
       "      <td>1280.SAXN108_0005</td>\n",
       "      <td>6.45e-264</td>\n",
       "      <td>723.0</td>\n",
       "      <td>COG1195@1|root,COG1195@2|Bacteria,1TP9U@1239|F...</td>\n",
       "      <td>91061|Bacilli</td>\n",
       "      <td>L</td>\n",
       "      <td>it is required for DNA replication and normal ...</td>\n",
       "      <td>recF</td>\n",
       "      <td>GO:0000731,GO:0005575,GO:0005622,GO:0005623,GO...</td>\n",
       "      <td>-</td>\n",
       "      <td>ko:K03629</td>\n",
       "      <td>ko03440,map03440</td>\n",
       "      <td>-</td>\n",
       "      <td>-</td>\n",
       "      <td>-</td>\n",
       "      <td>ko00000,ko00001,ko03400</td>\n",
       "      <td>-</td>\n",
       "      <td>-</td>\n",
       "      <td>-</td>\n",
       "      <td>SMC_N</td>\n",
       "    </tr>\n",
       "  </tbody>\n",
       "</table>\n",
       "</div>"
      ],
      "text/plain": [
       "                 seed eggNOG ortholog seed ortholog evalue  \\\n",
       "locus_tag                                                    \n",
       "#query                  seed_ortholog               evalue   \n",
       "SAOUHSC_00001  525378.HMPREF0793_1044            1.94e-280   \n",
       "SAOUHSC_00002       1280.SAXN108_0003            4.23e-268   \n",
       "SAOUHSC_00003       1280.SAXN108_0004             1.56e-49   \n",
       "SAOUHSC_00004       1280.SAXN108_0005            6.45e-264   \n",
       "\n",
       "              seed ortholog score  \\\n",
       "locus_tag                           \n",
       "#query                      score   \n",
       "SAOUHSC_00001               772.0   \n",
       "SAOUHSC_00002               734.0   \n",
       "SAOUHSC_00003               157.0   \n",
       "SAOUHSC_00004               723.0   \n",
       "\n",
       "                                       Predicted taxonomic group  \\\n",
       "locus_tag                                                          \n",
       "#query                                                eggNOG_OGs   \n",
       "SAOUHSC_00001  COG0593@1|root,COG0593@2|Bacteria,1TPV7@1239|F...   \n",
       "SAOUHSC_00002  COG0592@1|root,COG0592@2|Bacteria,1TQ7J@1239|F...   \n",
       "SAOUHSC_00003  COG2501@1|root,COG2501@2|Bacteria,1VEJ2@1239|F...   \n",
       "SAOUHSC_00004  COG1195@1|root,COG1195@2|Bacteria,1TP9U@1239|F...   \n",
       "\n",
       "              Predicted protein name Gene Ontology terms  \\\n",
       "locus_tag                                                  \n",
       "#query                 max_annot_lvl        COG_category   \n",
       "SAOUHSC_00001          91061|Bacilli                   L   \n",
       "SAOUHSC_00002          91061|Bacilli                   L   \n",
       "SAOUHSC_00003          91061|Bacilli                   S   \n",
       "SAOUHSC_00004          91061|Bacilli                   L   \n",
       "\n",
       "                                                       EC number  \\\n",
       "locus_tag                                                          \n",
       "#query                                               Description   \n",
       "SAOUHSC_00001  it binds specifically double-stranded DNA at a...   \n",
       "SAOUHSC_00002  Confers DNA tethering and processivity to DNA ...   \n",
       "SAOUHSC_00003                                          S4 domain   \n",
       "SAOUHSC_00004  it is required for DNA replication and normal ...   \n",
       "\n",
       "                    KEGG_orth  \\\n",
       "locus_tag                       \n",
       "#query         Preferred_name   \n",
       "SAOUHSC_00001            dnaA   \n",
       "SAOUHSC_00002            dnaN   \n",
       "SAOUHSC_00003            yaaA   \n",
       "SAOUHSC_00004            recF   \n",
       "\n",
       "                                                    KEGG_pathway KEGG_module  \\\n",
       "locus_tag                                                                      \n",
       "#query                                                       GOs          EC   \n",
       "SAOUHSC_00001  GO:0003674,GO:0003676,GO:0003677,GO:0003688,GO...           -   \n",
       "SAOUHSC_00002                                                  -     2.7.7.7   \n",
       "SAOUHSC_00003                                                  -           -   \n",
       "SAOUHSC_00004  GO:0000731,GO:0005575,GO:0005622,GO:0005623,GO...           -   \n",
       "\n",
       "              KEGG_reaction  \\\n",
       "locus_tag                     \n",
       "#query              KEGG_ko   \n",
       "SAOUHSC_00001     ko:K02313   \n",
       "SAOUHSC_00002     ko:K02338   \n",
       "SAOUHSC_00003     ko:K14761   \n",
       "SAOUHSC_00004     ko:K03629   \n",
       "\n",
       "                                                     KEGG_rclass        BRITE  \\\n",
       "locus_tag                                                                       \n",
       "#query                                              KEGG_Pathway  KEGG_Module   \n",
       "SAOUHSC_00001                  ko02020,ko04112,map02020,map04112            -   \n",
       "SAOUHSC_00002  ko00230,ko00240,ko01100,ko03030,ko03430,ko0344...       M00260   \n",
       "SAOUHSC_00003                                                  -            -   \n",
       "SAOUHSC_00004                                   ko03440,map03440            -   \n",
       "\n",
       "                                   KEGG_TC         CAZy  \\\n",
       "locus_tag                                                 \n",
       "#query                       KEGG_Reaction  KEGG_rclass   \n",
       "SAOUHSC_00001                            -            -   \n",
       "SAOUHSC_00002  R00375,R00376,R00377,R00378      RC02795   \n",
       "SAOUHSC_00003                            -            -   \n",
       "SAOUHSC_00004                            -            -   \n",
       "\n",
       "                                                 BiGG Reaction tax_scope  \\\n",
       "locus_tag                                                                  \n",
       "#query                                                   BRITE   KEGG_TC   \n",
       "SAOUHSC_00001                  ko00000,ko00001,ko03032,ko03036         -   \n",
       "SAOUHSC_00002  ko00000,ko00001,ko00002,ko01000,ko03032,ko03400         -   \n",
       "SAOUHSC_00003                                  ko00000,ko03009         -   \n",
       "SAOUHSC_00004                          ko00000,ko00001,ko03400         -   \n",
       "\n",
       "              eggNOG OGs bestOG_deprecated  \\\n",
       "locus_tag                                    \n",
       "#query              CAZy     BiGG_Reaction   \n",
       "SAOUHSC_00001          -                 -   \n",
       "SAOUHSC_00002          -                 -   \n",
       "SAOUHSC_00003          -                 -   \n",
       "SAOUHSC_00004          -                 -   \n",
       "\n",
       "                                                         COG  \n",
       "locus_tag                                                     \n",
       "#query                                                 PFAMs  \n",
       "SAOUHSC_00001                     Bac_DnaA,Bac_DnaA_C,DnaA_N  \n",
       "SAOUHSC_00002  DNA_pol3_beta,DNA_pol3_beta_2,DNA_pol3_beta_3  \n",
       "SAOUHSC_00003                                           S4_2  \n",
       "SAOUHSC_00004                                          SMC_N  "
      ]
     },
     "execution_count": 11,
     "metadata": {},
     "output_type": "execute_result"
    }
   ],
   "source": [
    "DF_eggnog = pd.read_csv(eggnog_file,sep='\\t',skiprows=4,header=None)\n",
    "eggnog_cols = ['query_name','seed eggNOG ortholog','seed ortholog evalue','seed ortholog score',\n",
    "               'Predicted taxonomic group','Predicted protein name','Gene Ontology terms',\n",
    "               'EC number','KEGG_orth','KEGG_pathway','KEGG_module','KEGG_reaction',\n",
    "               'KEGG_rclass','BRITE','KEGG_TC','CAZy','BiGG Reaction','tax_scope',\n",
    "               'eggNOG OGs','bestOG_deprecated','COG']  #deleted 'eggNOG free text description' column at the end due to bug\n",
    "\n",
    "DF_eggnog.columns = eggnog_cols\n",
    "\n",
    "# Strip last three rows as they are comments\n",
    "DF_eggnog = DF_eggnog.iloc[:-3]\n",
    "\n",
    "# Set locus tag as index\n",
    "DF_eggnog = DF_eggnog.set_index('query_name')\n",
    "DF_eggnog.index.name = 'locus_tag'\n",
    "\n",
    "DF_eggnog.head()"
   ]
  },
  {
   "cell_type": "markdown",
   "metadata": {},
   "source": [
    "Now we will pull the KEGG information from the eggNOG file, including orthology, pathway, module, and reactions for each gene."
   ]
  },
  {
   "cell_type": "code",
   "execution_count": 12,
   "metadata": {
    "scrolled": true
   },
   "outputs": [
    {
     "data": {
      "text/html": [
       "<div>\n",
       "<style scoped>\n",
       "    .dataframe tbody tr th:only-of-type {\n",
       "        vertical-align: middle;\n",
       "    }\n",
       "\n",
       "    .dataframe tbody tr th {\n",
       "        vertical-align: top;\n",
       "    }\n",
       "\n",
       "    .dataframe thead th {\n",
       "        text-align: right;\n",
       "    }\n",
       "</style>\n",
       "<table border=\"1\" class=\"dataframe\">\n",
       "  <thead>\n",
       "    <tr style=\"text-align: right;\">\n",
       "      <th></th>\n",
       "      <th>gene_id</th>\n",
       "      <th>database</th>\n",
       "      <th>kegg_id</th>\n",
       "    </tr>\n",
       "  </thead>\n",
       "  <tbody>\n",
       "    <tr>\n",
       "      <th>0</th>\n",
       "      <td>#query</td>\n",
       "      <td>KEGG_orth</td>\n",
       "      <td>Preferred_name</td>\n",
       "    </tr>\n",
       "    <tr>\n",
       "      <th>1</th>\n",
       "      <td>SAOUHSC_00001</td>\n",
       "      <td>KEGG_orth</td>\n",
       "      <td>dnaA</td>\n",
       "    </tr>\n",
       "    <tr>\n",
       "      <th>2</th>\n",
       "      <td>SAOUHSC_00002</td>\n",
       "      <td>KEGG_orth</td>\n",
       "      <td>dnaN</td>\n",
       "    </tr>\n",
       "    <tr>\n",
       "      <th>3</th>\n",
       "      <td>SAOUHSC_00003</td>\n",
       "      <td>KEGG_orth</td>\n",
       "      <td>yaaA</td>\n",
       "    </tr>\n",
       "    <tr>\n",
       "      <th>4</th>\n",
       "      <td>SAOUHSC_00004</td>\n",
       "      <td>KEGG_orth</td>\n",
       "      <td>recF</td>\n",
       "    </tr>\n",
       "  </tbody>\n",
       "</table>\n",
       "</div>"
      ],
      "text/plain": [
       "         gene_id   database         kegg_id\n",
       "0         #query  KEGG_orth  Preferred_name\n",
       "1  SAOUHSC_00001  KEGG_orth            dnaA\n",
       "2  SAOUHSC_00002  KEGG_orth            dnaN\n",
       "3  SAOUHSC_00003  KEGG_orth            yaaA\n",
       "4  SAOUHSC_00004  KEGG_orth            recF"
      ]
     },
     "execution_count": 12,
     "metadata": {},
     "output_type": "execute_result"
    }
   ],
   "source": [
    "DF_kegg = DF_eggnog[['KEGG_orth','KEGG_pathway','KEGG_module','KEGG_reaction']]\n",
    "\n",
    "# Melt dataframe\n",
    "DF_kegg = DF_kegg.reset_index().melt(id_vars='locus_tag') \n",
    "\n",
    "# Remove null values\n",
    "DF_kegg = DF_kegg[DF_kegg.value.notnull()]\n",
    "\n",
    "# Split comma-separated values into their own rows\n",
    "list2struct = []\n",
    "for name,row in DF_kegg.iterrows():\n",
    "    for val in row.value.split(','):\n",
    "        list2struct.append([row.locus_tag,row.variable,val])\n",
    "\n",
    "DF_kegg = pd.DataFrame(list2struct,columns=['gene_id','database','kegg_id'])\n",
    "\n",
    "# Remove ko entries, as only map entries are searchable in KEGG pathway\n",
    "DF_kegg = DF_kegg[~DF_kegg.kegg_id.str.startswith('ko')]\n",
    "\n",
    "DF_kegg.head()"
   ]
  },
  {
   "cell_type": "markdown",
   "metadata": {},
   "source": [
    "### Save KEGG information"
   ]
  },
  {
   "cell_type": "code",
   "execution_count": 13,
   "metadata": {},
   "outputs": [],
   "source": [
    "DF_kegg.to_csv(os.path.join('KEGG','kegg_mapping.csv'))"
   ]
  },
  {
   "cell_type": "markdown",
   "metadata": {},
   "source": [
    "### Save COGs to annotation dataframe"
   ]
  },
  {
   "cell_type": "code",
   "execution_count": 14,
   "metadata": {},
   "outputs": [],
   "source": [
    "DF_annot['COG'] = DF_eggnog.COG\n",
    "\n",
    "# Make sure COG only has one entry per gene\n",
    "DF_annot['COG'] = [item[0] if isinstance(item,str) else item for item in DF_annot['COG']]"
   ]
  },
  {
   "cell_type": "markdown",
   "metadata": {},
   "source": [
    "## Uniprot ID mapping"
   ]
  },
  {
   "cell_type": "markdown",
   "metadata": {},
   "source": [
    "The ``uniprot_id_mapping`` function is a python wrapper for the [Uniprot ID mapping tool](https://www.uniprot.org/uploadlists/). Use ``input_id=P_REFSEQ_AC`` if the FASTA/GFF files are from RefSeq, and ``input_id=EMBL`` if the files are from Genbank."
   ]
  },
  {
   "cell_type": "code",
   "execution_count": 36,
   "metadata": {},
   "outputs": [
    {
     "name": "stdout",
     "output_type": "stream",
     "text": [
      "{'results': [], 'failedIds': ['YP_498609.1 YP_498610.1 YP_498611.1 YP_498612.1 YP_498613.1 YP_498614.1 YP_498615.1 YP_498616.1 YP_498617.1 YP_498618.1 YP_498619.1 YP_498620.1 YP_498621.1 YP_498622.1 YP_498623.1 YP_498624.1 YP_498625.1 YP_498626.1 YP_498627.1 YP_498628.1 YP_498629.1 YP_498630.1 YP_498631.1 YP_498632.1 YP_498633.1 YP_498634.1 YP_498635.1 YP_498636.1 YP_498637.1 YP_498638.1 YP_498639.1 YP_498640.1 YP_498641.1 YP_498642.1 YP_498643.1 YP_498644.1 YP_498645.1 YP_498646.1 YP_498647.1 YP_498648.1 YP_498649.1 YP_498650.1 YP_498651.1 YP_498652.1 YP_498653.1 YP_498654.1 YP_498655.1 YP_498656.1 YP_498657.1 YP_498658.1 YP_498659.1 YP_498660.1 YP_498661.1 YP_498662.1 YP_498663.1 YP_498664.1 YP_498665.1 YP_498666.1 YP_498667.1 YP_498668.1 YP_498669.1 YP_498670.1 YP_498671.1 YP_498672.1 YP_498673.1 YP_498674.1 YP_498675.1 YP_498676.1 YP_498677.1 YP_498678.1 YP_498679.1 YP_498680.1 YP_498681.1 YP_498682.1 YP_498683.1 YP_498685.1 YP_498686.1 YP_498687.1 YP_498688.1 YP_498689.1 YP_498690.1 YP_498691.1 YP_498692.1 YP_498693.1 YP_498694.1 YP_498695.1 YP_498696.1 YP_498698.1 YP_498699.1 YP_498700.1 YP_498701.1 YP_498702.1 YP_498703.1 YP_498704.1 YP_498705.1 YP_498706.1 YP_498707.1 YP_498708.1 YP_498709.1 YP_498711.1 YP_498713.1 YP_498714.1 YP_498715.1 YP_498716.1 YP_498717.1 YP_498718.1 YP_498719.1 YP_498720.1 YP_498721.1 YP_498722.1 YP_498723.1 YP_498724.1 YP_498725.1 YP_498726.1 YP_498727.1 YP_498728.1 YP_498729.1 YP_498730.1 YP_498731.1 YP_498732.1 YP_498733.1 YP_498734.1 YP_498735.1 YP_498736.1 YP_498737.1 YP_498738.1 YP_498739.1 YP_498740.1 YP_498741.1 YP_498742.1 YP_498743.1 YP_498744.1 YP_498745.1 YP_498746.1 YP_498747.1 YP_498748.1 YP_498749.1 YP_498750.1 YP_498751.1 YP_498752.1 YP_498753.1 YP_498754.1 YP_498755.1 YP_498756.1 YP_498757.1 YP_498758.1 YP_498759.1 YP_498760.1 YP_498761.1 YP_498762.1 YP_498763.1 YP_498764.1 YP_498765.1 YP_498766.1 YP_498767.1 YP_498768.1 YP_498769.1 YP_498770.1 YP_498771.1 YP_498772.1 YP_498773.1 YP_498774.1 YP_498775.1 YP_498776.1 YP_498777.1 YP_498778.1 YP_498779.1 YP_498780.1 YP_498781.1 YP_498782.1 YP_498783.1 YP_498784.1 YP_498785.1 YP_498787.1 YP_498788.1 YP_498789.1 YP_498790.1 YP_498792.1 YP_498793.1 YP_498794.1 YP_498795.1 YP_498796.1 YP_498797.1 YP_498798.1 YP_498799.1 YP_498800.1 YP_498801.1 YP_498802.1 YP_498803.1 YP_498804.1 YP_498805.1 YP_498806.1 YP_498807.1 YP_498808.1 YP_498809.1 YP_498810.1 YP_498811.1 YP_498812.1 YP_498813.1 YP_498814.1 YP_498815.1 YP_498816.1 YP_498818.1 YP_498819.1 YP_498820.1 YP_498821.1 YP_498822.1 YP_498823.1 YP_498824.1 YP_498825.1 YP_498826.1 YP_498827.1 YP_498828.1 YP_498829.1 YP_498830.1 YP_498831.1 YP_498832.1 YP_498833.1 YP_498834.1 YP_498835.1 YP_498836.1 YP_498837.1 YP_498838.1 YP_498839.1 YP_498841.1 YP_498842.1 YP_498843.1 YP_498844.1 YP_498845.1 YP_498846.1 YP_498847.1 YP_498848.1 YP_498849.1 YP_498850.1 YP_498851.1 YP_498852.1 YP_498853.1 YP_498854.1 YP_498855.1 YP_498856.1 YP_498857.1 YP_498858.1 YP_498859.1 YP_498860.1 YP_498861.1 YP_498862.1 YP_498863.1 YP_498864.1 YP_498865.1 YP_498866.1 YP_498867.2 YP_498868.1 YP_498869.1 YP_498870.1 YP_498871.1 YP_498872.1 YP_498873.1 YP_498874.1 YP_498875.1 YP_498877.1 YP_498878.1 YP_498879.1 YP_498880.1 YP_498881.1 YP_498882.1 YP_498883.1 YP_498884.1 YP_498885.1 YP_498886.1 YP_498887.1 YP_498888.1 YP_498889.1 YP_498890.1 YP_498891.1 YP_498892.1 YP_498893.1 YP_498894.1 YP_498895.2 YP_498896.1 YP_498897.1 YP_498898.1 YP_498899.1 YP_498900.1 YP_498901.1 YP_498902.1 YP_498903.1 YP_498904.1 YP_498905.1 YP_498906.1 YP_498907.1 YP_498908.1 YP_498909.1 YP_498910.1 YP_498911.1 YP_498912.1 YP_498913.1 YP_498914.1 YP_498915.1 YP_498916.1 YP_498917.1 YP_498918.1 YP_498919.1 YP_498920.1 YP_498921.1 YP_498922.1 YP_498923.1 YP_498924.1 YP_498926.1 YP_498927.1 YP_498928.1 YP_498929.1 YP_498930.1 YP_498931.1 YP_498932.1 YP_498933.1 YP_498934.1 YP_498935.1 YP_498936.1 YP_498937.1 YP_498938.1 YP_498939.1 YP_498940.1 YP_498941.1 YP_498942.1 YP_498943.1 YP_498944.1 YP_498945.1 YP_498946.1 YP_498947.1 YP_498948.1 YP_498949.1 YP_498950.1 YP_498951.1 YP_498952.1 YP_498953.1 YP_498954.1 YP_498955.1 YP_498956.1 YP_498957.1 YP_498958.1 YP_498959.1 YP_498960.1 YP_498961.1 YP_498962.1 YP_498963.1 YP_498964.1 YP_498965.1 YP_498966.1 YP_498967.1 YP_008530238.1 YP_498969.1 YP_498970.1 YP_498971.1 YP_498972.1 YP_498973.1 YP_498974.1 YP_498975.1 YP_498976.1 YP_498978.1 YP_498979.1 YP_498980.1 YP_498981.1 YP_498982.1 YP_498983.1 YP_498984.1 YP_498985.1 YP_498986.1 YP_498987.1 YP_498988.1 YP_498989.1 YP_498990.1 YP_498991.1 YP_498992.1 YP_498993.1 YP_498994.1 YP_498995.1 YP_498996.1 YP_498997.1 YP_498998.1 YP_498999.1 YP_499000.1 YP_499001.1 YP_499002.1 YP_499003.1 YP_499004.1 YP_499005.1 YP_499006.1 YP_499007.1 YP_499008.1 YP_499009.1 YP_499010.1 YP_499011.1 YP_499012.1 YP_499013.1 YP_499014.1 YP_499015.1 YP_499016.1 YP_499017.1 YP_499018.1 YP_499019.1 YP_499020.1 YP_499021.1 YP_499022.1 YP_499023.1 YP_499024.1 YP_499025.1 YP_499026.1 YP_499027.1 YP_499028.1 YP_499029.1 YP_499030.1 YP_499031.1 YP_499033.1 YP_499034.1 YP_499035.2 YP_499036.1 YP_499037.1 YP_499038.1 YP_499040.1 YP_499041.1 YP_499042.1 YP_499043.1 YP_499044.1 YP_499045.1 YP_499046.1 YP_499047.1 YP_499048.1 YP_499049.1 YP_499050.1 YP_499051.1 YP_499052.1 YP_499053.1 YP_499054.1 YP_499055.1 YP_499056.1 YP_499057.1 YP_499058.1 YP_499059.1 YP_499060.1 YP_499061.1 YP_499062.1 YP_499063.1 YP_499064.1 YP_499065.1 YP_499066.1 YP_499067.1 YP_499068.1 YP_499069.1 YP_499070.1 YP_499071.1 YP_499072.1 YP_499073.1 YP_499074.1 YP_499075.1 YP_499076.1 YP_499077.1 YP_499078.1 YP_499080.2 YP_499081.1 YP_499082.1 YP_499083.1 YP_499084.1 YP_499085.1 YP_499086.1 YP_499087.1 YP_499088.1 YP_499089.2 YP_499090.1 YP_499091.1 YP_499092.1 YP_499093.1 YP_499094.1 YP_499095.1 YP_499096.2 YP_499097.1 YP_499098.1 YP_499099.1 YP_499100.1 YP_499101.1 YP_499102.1 YP_499103.1 YP_499104.1 YP_499105.1 YP_499106.1 YP_499107.1 YP_499108.1 YP_499109.1 YP_499110.1 YP_499111.1 YP_499112.1 YP_499113.1 YP_499114.1 YP_499115.1 YP_499116.1 YP_499117.1 YP_499118.1 YP_499119.1 YP_499120.1 YP_499121.1 YP_499122.1 YP_499123.1 YP_499124.1 YP_499125.1 YP_499126.2 YP_499127.1 YP_499128.1 YP_499129.1 YP_499130.1 YP_499131.1 YP_499132.1 YP_499133.1 YP_499134.1 YP_499135.1 YP_499136.1 YP_499137.1 YP_499138.1 YP_499139.1 YP_499140.1 YP_499141.1 YP_499142.1 YP_499143.1 YP_499144.1 YP_499145.1 YP_499146.1 YP_499147.1 YP_499148.1 YP_499149.1 YP_499150.1 YP_499151.1 YP_499152.1 YP_499153.1 YP_499154.1 YP_499155.1 YP_499156.1 YP_499157.1 YP_499158.1 YP_499161.1 YP_499162.1 YP_499163.1 YP_499164.1 YP_499165.1 YP_499166.1 YP_499167.1 YP_499168.1 YP_499169.1 YP_499170.1 YP_499171.1 YP_499172.1 YP_499173.1 YP_499174.1 YP_499175.1 YP_499176.1 YP_499177.1 YP_499178.1 YP_499179.1 YP_499180.1 YP_499181.1 YP_499182.1 YP_499183.1 YP_499184.1 YP_499185.2 YP_499186.1 YP_499187.1 YP_499188.1 YP_499189.1 YP_499190.1 YP_499191.1 YP_499193.1 YP_499194.1 YP_499195.1 YP_499196.1 YP_499197.1 YP_499198.1 YP_499199.1 YP_499200.1 YP_499201.1 YP_499202.1 YP_499203.1 YP_499204.1 YP_499205.1 YP_499206.1 YP_499207.1 YP_499208.1 YP_499209.1 YP_499210.1 YP_499211.1 YP_499212.1 YP_499213.1 YP_499214.1 YP_499215.1 YP_499216.1 YP_499217.1 YP_499218.1 YP_499219.1 YP_499221.1 YP_499222.1 YP_499223.1 YP_499224.1 YP_499225.1 YP_499226.1 YP_499227.1 YP_499228.1 YP_499229.1 YP_499230.1 YP_499231.1 YP_499232.1 YP_499233.1 YP_499234.1 YP_499235.1 YP_499236.1 YP_499237.1 YP_499238.1 YP_499239.1 YP_499240.1 YP_499241.1 YP_499242.1 YP_499243.1 YP_499244.1 YP_499245.1 YP_499246.1 YP_499247.1 YP_499248.1 YP_499249.1 YP_499250.1 YP_499251.1 YP_499252.1 YP_499253.1 YP_499254.1 YP_499255.1 YP_499256.1 YP_499257.1 YP_499258.1 YP_499259.1 YP_499260.1 YP_499261.1 YP_499262.1 YP_499263.1 YP_499264.1 YP_499265.1 YP_499266.1 YP_499267.1 YP_499269.1 YP_499270.1 YP_499271.1 YP_499272.1 YP_499273.1 YP_499274.1 YP_499275.1 YP_499276.1 YP_499277.1 YP_499278.1 YP_499279.1 YP_499280.1 YP_499281.1 YP_499282.1 YP_499283.1 YP_499284.1 YP_499285.1 YP_499286.1 YP_499287.1 YP_499289.1 YP_499290.1 YP_499291.1 YP_499292.1 YP_499293.1 YP_499294.1 YP_499295.1 YP_499296.1 YP_499297.1 YP_499298.1 YP_499299.1 YP_499300.1 YP_499301.1 YP_499302.1 YP_499303.1 YP_499304.1 YP_499305.1 YP_499306.1 YP_499307.1 YP_499308.1 YP_499309.1 YP_499310.1 YP_499311.1 YP_499312.1 YP_499313.1 YP_499314.1 YP_499315.1 YP_499316.1 YP_499317.1 YP_499318.1 YP_499319.1 YP_499320.1 YP_499321.1 YP_499322.1 YP_499323.1 YP_499324.1 YP_499325.1 YP_499326.1 YP_499327.1 YP_499328.1 YP_499329.1 YP_499330.1 YP_499331.1 YP_499332.1 YP_499333.1 YP_499334.1 YP_499336.1 YP_499337.1 YP_499338.1 YP_499339.1 YP_499340.1 YP_499341.1 YP_499342.1 YP_499343.1 YP_499344.2 YP_499345.1 YP_499346.1 YP_499347.1 YP_499348.1 YP_499349.1 YP_499350.1 YP_499351.1 YP_499352.1 YP_499353.1 YP_499354.1 YP_499355.1 YP_499356.1 YP_499357.2 YP_499358.1 YP_499359.1 YP_499360.1 YP_499362.1 YP_499363.1 YP_499364.1 YP_499365.1 YP_499366.1 YP_499367.1 YP_499368.1 YP_499371.1 YP_499372.1 YP_499373.1 YP_499374.1 YP_499375.1 YP_499376.1 YP_499377.1 YP_499378.1 YP_499379.1 YP_499380.1 YP_499381.1 YP_499382.1 YP_499383.1 YP_499384.1 YP_499385.1 YP_499386.1 YP_499387.1 YP_499388.1 YP_499389.1 YP_499390.1 YP_499391.1 YP_499392.1 YP_499393.1 YP_499394.1 YP_499395.1 YP_499396.1 YP_499397.1 YP_499398.1 YP_499399.1 YP_499400.1 YP_499401.1 YP_499402.1 YP_499403.1 YP_499404.1 YP_499405.1 YP_499406.1 YP_499407.1 YP_499408.1 YP_499409.1 YP_499410.1 YP_499411.1 YP_499412.1 YP_499413.1 YP_499414.1 YP_499415.1 YP_499416.1 YP_499417.1 YP_499418.1 YP_499419.1 YP_499420.1 YP_499421.2 YP_499422.1 YP_499423.1 YP_499424.1 YP_499425.1 YP_499426.1 YP_499427.1 YP_499428.1 YP_499429.1 YP_499430.1 YP_499431.1 YP_499432.1 YP_499433.1 YP_499434.1 YP_499435.1 YP_499436.1 YP_499437.1 YP_499438.1 YP_499439.1 YP_499440.1 YP_499441.1 YP_499442.1 YP_499443.1 YP_499444.1 YP_499445.1 YP_499446.1 YP_499447.1 YP_499448.1 YP_499449.1 YP_499450.1 YP_499451.1 YP_499452.1 YP_499453.1 YP_499454.1 YP_499455.1 YP_499456.1 YP_499457.1 YP_499458.1 YP_499459.1 YP_499460.1 YP_499461.1 YP_499462.1 YP_499463.1 YP_499464.1 YP_499465.1 YP_499466.1 YP_499467.1 YP_499468.1 YP_499469.1 YP_499470.1 YP_499472.1 YP_499473.1 YP_499474.1 YP_499475.1 YP_499476.1 YP_499477.1 YP_499478.1 YP_499479.1 YP_499480.1 YP_499481.1 YP_499482.1 YP_499483.1 YP_499484.1 YP_499485.1 YP_499486.1 YP_499487.1 YP_499488.1 YP_499489.1 YP_499490.1 YP_499491.1 YP_499492.1 YP_499493.1 YP_499494.1 YP_499495.1 YP_499496.1 YP_499497.1 YP_499498.1 YP_499499.1 YP_499500.1 YP_499501.1 YP_499502.1 YP_499503.1 YP_499504.1 YP_499505.1 YP_499506.1 YP_499507.1 YP_499508.1 YP_499509.1 YP_499510.1 YP_499511.1 YP_499512.1 YP_499513.1 YP_499514.1 YP_499515.1 YP_499516.1 YP_499517.1 YP_499518.1 YP_499519.1 YP_499520.1 YP_499521.1 YP_499522.1 YP_499523.1 YP_499524.1 YP_499525.1 YP_499528.1 YP_499529.1 YP_499530.1 YP_499531.1 YP_499532.1 YP_499533.1 YP_499534.1 YP_499535.1 YP_499536.1 YP_499537.1 YP_499538.1 YP_499539.1 YP_499540.1 YP_499541.1 YP_499542.1 YP_499543.1 YP_499544.1 YP_499545.1 YP_499546.1 YP_499547.1 YP_499548.1 YP_499549.1 YP_499550.1 YP_499551.1 YP_499552.1 YP_499553.1 YP_499554.1 YP_499555.1 YP_499556.1 YP_499557.1 YP_499558.1 YP_499559.1 YP_499560.1 YP_499561.1 YP_499562.1 YP_499563.1 YP_499564.1 YP_499565.1 YP_499566.1 YP_499567.1 YP_499568.1 YP_499569.1 YP_499570.1 YP_499571.1 YP_499572.1 YP_499573.1 YP_499574.1 YP_499575.1 YP_499576.1 YP_499577.1 YP_499578.1 YP_499579.1 YP_499580.1 YP_499581.1 YP_499582.1 YP_499583.1 YP_499584.1 YP_499585.1 YP_499586.1 YP_499587.1 YP_499588.1 YP_499589.1 YP_499590.1 YP_499591.1 YP_499592.1 YP_499593.1 YP_499594.1 YP_499595.1 YP_499596.1 YP_499597.1 YP_499598.1 YP_499599.1 YP_499600.1 YP_499601.1 YP_499602.1 YP_499603.1 YP_008530239.1 YP_499605.1 YP_499606.1 YP_499607.1 YP_499608.1 YP_499609.1 YP_499610.1 YP_499611.1 YP_499612.1 YP_499613.1 YP_499614.1 YP_499615.2 YP_499616.1 YP_499617.1 YP_499618.1 YP_499619.1 YP_499620.1 YP_499621.1 YP_499622.1 YP_499623.1 YP_499626.1 YP_499627.1 YP_499628.1 YP_499629.1 YP_499630.1 YP_499631.1 YP_499632.1 YP_499633.1 YP_499634.1 YP_499635.1 YP_499636.1 YP_499637.1 YP_499638.1 YP_499639.1 YP_499640.1 YP_499641.1 YP_499642.1 YP_499643.1 YP_499644.1 YP_499645.1 YP_499646.2 YP_499647.1 YP_499648.1 YP_499649.1 YP_499650.1 YP_499651.1 YP_499652.1 YP_499653.1 YP_499654.1 YP_499655.1 YP_499656.1 YP_499657.1 YP_499658.1 YP_499659.1 YP_499660.1 YP_499662.1 YP_499663.1 YP_499664.1 YP_499665.1 YP_499666.1 YP_499667.1 YP_499668.1 YP_499669.1 YP_499670.1 YP_499671.1 YP_499672.1 YP_499673.1 YP_499674.1 YP_499675.1 YP_499676.1 YP_499677.1 YP_499678.1 YP_499679.1 YP_499680.1 YP_499681.1 YP_499683.1 YP_499684.1 YP_499685.1 YP_499686.1 YP_499687.1 YP_499688.1 YP_499689.1 YP_499690.1 YP_499691.1 YP_499692.1 YP_499693.1 YP_499694.1 YP_499695.1 YP_499696.1 YP_499697.1 YP_499698.1 YP_499699.1 YP_499700.1 YP_499702.1 YP_499703.1 YP_499704.1 YP_499705.1 YP_499706.1 YP_499707.1 YP_499708.1 YP_499709.1 YP_499710.1 YP_499711.1 YP_499712.1 YP_499713.1 YP_499714.1 YP_499715.1 YP_499716.1 YP_499717.1 YP_499718.1 YP_499719.1 YP_499720.1 YP_499721.1 YP_499722.1 YP_499723.1 YP_499724.1 YP_499725.1 YP_499726.1 YP_499727.2 YP_499728.1 YP_499729.1 YP_499730.1 YP_499731.1 YP_499732.1 YP_499733.1 YP_499734.1 YP_499735.1 YP_499736.1 YP_499737.1 YP_499738.1 YP_499739.1 YP_499740.1 YP_499741.1 YP_499742.1 YP_499743.1 YP_499744.1 YP_499745.1 YP_499746.1 YP_499747.1 YP_499748.1 YP_499750.1 YP_499751.1 YP_499752.1 YP_499753.1 YP_499754.1 YP_499755.1 YP_499756.1 YP_499757.1 YP_499758.1 YP_499759.1 YP_499760.1 YP_499761.1 YP_499762.1 YP_499763.1 YP_499764.1 YP_499766.1 YP_499767.1 YP_499768.1 YP_499769.1 YP_499770.1 YP_499771.1 YP_499772.1 YP_499773.1 YP_499774.1 YP_499775.1 YP_499776.1 YP_499777.1 YP_499778.1 YP_499779.1 YP_499780.1 YP_499781.1 YP_499782.1 YP_499783.1 YP_499784.1 YP_499785.1 YP_499786.1 YP_499787.1 YP_499788.1 YP_499789.1 YP_499790.1 YP_499791.1 YP_499792.1 YP_499793.1 YP_499794.1 YP_499795.2 YP_499796.1 YP_499797.1 YP_499798.1 YP_499799.1 YP_499800.1 YP_499801.1 YP_499802.1 YP_499803.1 YP_499804.1 YP_499805.1 YP_499806.1 YP_499807.1 YP_499808.1 YP_499809.1 YP_499810.1 YP_499811.1 YP_499812.1 YP_499813.1 YP_499814.1 YP_499815.1 YP_499816.1 YP_499817.1 YP_499818.1 YP_499819.1 YP_499820.1 YP_499821.1 YP_499822.1 YP_499823.1 YP_499824.1 YP_499825.1 YP_499826.1 YP_499827.1 YP_499828.1 YP_499829.1 YP_499830.1 YP_499831.1 YP_499832.1 YP_499835.1 YP_499836.1 YP_499837.1 YP_499838.1 YP_008530240.1 YP_499840.1 YP_499841.1 YP_499842.1 YP_499843.1 YP_499844.1 YP_499845.1 YP_499846.1 YP_499847.1 YP_499848.1 YP_499849.1 YP_499850.1 YP_499851.1 YP_499852.1 YP_499853.1 YP_499854.1 YP_499855.1 YP_499856.1 YP_499857.1 YP_499858.1 YP_499859.1 YP_499860.1 YP_499861.1 YP_499862.1 YP_499863.1 YP_499864.1 YP_499865.1 YP_499866.1 YP_499867.1 YP_499868.1 YP_499869.1 YP_499870.1 YP_008530241.1 YP_499874.1 YP_499875.1 YP_499876.1 YP_499877.1 YP_499878.1 YP_499879.1 YP_499880.1 YP_499881.1 YP_499882.1 YP_499883.1 YP_499884.1 YP_499885.1 YP_499886.1 YP_499887.1 YP_499888.1 YP_499889.1 YP_499890.1 YP_499891.1 YP_499892.1 YP_499893.1 YP_499894.1 YP_499895.1 YP_499896.1 YP_499897.1 YP_499898.1 YP_499899.1 YP_499900.1 YP_499901.1 YP_499902.1 YP_499903.1 YP_499904.1 YP_499905.1 YP_499906.1 YP_499907.1 YP_499908.1 YP_499909.1 YP_499910.1 YP_499911.1 YP_499912.1 YP_499913.1 YP_499914.1 YP_499915.1 YP_499916.1 YP_499919.1 YP_499920.1 YP_499921.1 YP_499922.1 YP_499923.1 YP_499924.1 YP_499925.1 YP_499926.1 YP_499927.1 YP_499928.1 YP_499929.1 YP_499930.1 YP_499932.1 YP_499933.1 YP_499934.1 YP_499935.1 YP_499938.1 YP_499939.1 YP_499940.1 YP_499941.2 YP_499942.1 YP_499943.1 YP_499944.1 YP_499945.1 YP_499946.1 YP_499947.1 YP_499948.1 YP_499949.1 YP_499950.1 YP_499951.1 YP_499952.1 YP_499954.1 YP_499955.1 YP_499956.1 YP_499957.1 YP_499958.1 YP_499959.1 YP_499960.1 YP_499961.1 YP_499962.1 YP_499963.1 YP_499964.1 YP_499965.1 YP_499966.1 YP_499968.1 YP_499969.1 YP_499970.1 YP_499971.1 YP_499972.1 YP_499973.1 YP_499974.1 YP_499975.1 YP_499976.1 YP_499978.1 YP_499979.1 YP_499980.1 YP_499981.1 YP_499982.1 YP_499984.1 YP_499985.1 YP_499986.1 YP_499987.1 YP_499988.1 YP_499989.1 YP_499990.1 YP_499991.1 YP_499992.2 YP_499993.1 YP_499994.1 YP_499995.1 YP_499996.1 YP_499997.1 YP_499998.1 YP_499999.1 YP_500000.1 YP_500001.1 YP_500002.1 YP_500003.1 YP_500004.1 YP_500005.1 YP_500006.1 YP_500007.1 YP_500008.1 YP_500009.1 YP_500010.1 YP_500011.1 YP_500012.1 YP_500013.1 YP_500014.1 YP_500015.2 YP_500016.1 YP_500017.1 YP_500018.1 YP_500019.1 YP_500020.1 YP_500021.1 YP_500022.1 YP_500023.1 YP_500024.1 YP_500025.1 YP_500026.1 YP_500027.1 YP_500028.1 YP_500029.1 YP_500030.1 YP_500032.1 YP_500033.1 YP_500034.1 YP_500035.1 YP_500036.1 YP_500037.1 YP_500038.1 YP_500039.1 YP_500040.1 YP_500041.1 YP_500042.1 YP_500043.1 YP_500044.1 YP_500045.1 YP_500046.1 YP_500047.1 YP_500048.1 YP_500049.1 YP_500050.1 YP_500051.1 YP_500052.1 YP_500053.1 YP_500054.1 YP_500055.1 YP_500056.1 YP_500057.1 YP_500058.1 YP_500059.1 YP_500060.1 YP_500061.1 YP_500062.1 YP_500063.1 YP_500064.1 YP_500065.1 YP_500066.1 YP_500067.1 YP_500068.1 YP_500069.1 YP_500071.1 YP_500072.1 YP_500073.1 YP_500074.1 YP_500075.1 YP_500076.1 YP_500077.1 YP_500078.1 YP_500079.1 YP_500080.1 YP_500081.1 YP_500082.1 YP_500083.1 YP_500084.1 YP_500085.1 YP_500086.1 YP_500087.1 YP_500088.1 YP_500089.1 YP_500090.1 YP_500091.1 YP_500092.1 YP_500093.1 YP_500094.1 YP_500095.1 YP_500096.1 YP_500097.1 YP_500098.1 YP_500099.1 YP_500100.1 YP_500101.1 YP_500102.1 YP_500103.1 YP_500104.1 YP_500105.1 YP_500106.1 YP_500107.1 YP_500108.1 YP_500109.1 YP_500110.1 YP_500111.1 YP_500112.1 YP_500113.1 YP_500114.1 YP_500115.1 YP_500116.1 YP_500117.1 YP_500118.1 YP_500119.1 YP_500120.1 YP_500121.1 YP_500122.1 YP_500123.1 YP_500124.1 YP_500125.1 YP_500126.1 YP_500127.1 YP_500128.1 YP_500129.1 YP_500130.1 YP_500131.1 YP_500132.1 YP_500133.1 YP_500134.1 YP_500135.1 YP_500136.1 YP_500137.1 YP_500138.1 YP_500139.1 YP_500140.1 YP_500141.1 YP_500142.1 YP_500143.1 YP_500144.1 YP_500145.1 YP_500146.1 YP_500147.1 YP_500148.1 YP_500149.1 YP_500150.2 YP_500151.1 YP_500152.1 YP_500153.1 YP_500154.1 YP_500155.1 YP_500156.1 YP_500157.1 YP_500158.1 YP_500159.1 YP_500162.1 YP_500163.1 YP_500164.1 YP_500165.1 YP_500166.1 YP_500167.1 YP_500168.1 YP_500169.1 YP_500170.1 YP_500171.1 YP_500172.1 YP_500173.1 YP_500174.1 YP_500175.1 YP_500176.1 YP_500177.1 YP_500178.1 YP_500179.2 YP_500181.1 YP_500182.1 YP_500183.1 YP_500184.1 YP_500185.1 YP_500186.1 YP_500187.1 YP_500188.1 YP_500189.1 YP_500190.1 YP_500191.1 YP_500192.1 YP_500193.1 YP_500194.1 YP_500195.1 YP_500196.1 YP_500197.1 YP_500198.1 YP_500199.1 YP_500200.1 YP_500201.1 YP_500202.1 YP_500203.1 YP_500204.1 YP_500205.1 YP_500206.1 YP_500207.1 YP_500208.1 YP_500209.1 YP_500210.1 YP_500211.1 YP_500212.1 YP_500214.1 YP_500215.1 YP_500216.1 YP_500217.1 YP_500218.1 YP_500219.1 YP_500220.1 YP_500221.1 YP_500222.1 YP_500223.1 YP_500224.1 YP_500225.1 YP_500226.1 YP_500227.1 YP_500228.1 YP_500229.1 YP_500230.1 YP_500231.1 YP_500232.1 YP_500233.1 YP_500236.1 YP_500237.1 YP_500238.1 YP_500239.1 YP_500242.2 YP_500243.1 YP_500244.1 YP_500245.1 YP_500246.1 YP_500247.1 YP_500248.1 YP_500249.1 YP_500250.1 YP_500251.1 YP_500252.2 YP_500253.1 YP_500254.1 YP_500255.1 YP_500256.1 YP_500257.1 YP_500258.1 YP_500259.1 YP_500260.1 YP_500261.1 YP_500262.1 YP_500263.1 YP_500264.1 YP_500265.1 YP_500266.1 YP_008530242.1 YP_500267.1 YP_500268.1 YP_500269.1 YP_500270.1 YP_500271.1 YP_500272.1 YP_500273.1 YP_500274.1 YP_500275.1 YP_500276.1 YP_500277.1 YP_500278.1 YP_500279.1 YP_500280.1 YP_500281.1 YP_500282.1 YP_500283.1 YP_500284.1 YP_500285.1 YP_500286.1 YP_500287.1 YP_500288.1 YP_500289.1 YP_500290.1 YP_500291.1 YP_500292.1 YP_500293.1 YP_500294.1 YP_500295.1 YP_500296.1 YP_500297.1 YP_500298.1 YP_500299.1 YP_500300.1 YP_500301.1 YP_500302.1 YP_500303.1 YP_500304.1 YP_500306.1 YP_500307.1 YP_500308.1 YP_500311.1 YP_500312.1 YP_500313.1 YP_500314.1 YP_500315.1 YP_500316.1 YP_500317.1 YP_500318.1 YP_500319.1 YP_500320.1 YP_500321.1 YP_500322.1 YP_500323.1 YP_500324.1 YP_500325.1 YP_500326.1 YP_500327.1 YP_500328.1 YP_500329.1 YP_500330.1 YP_500331.1 YP_500332.1 YP_500333.1 YP_500334.1 YP_500336.1 YP_500337.1 YP_500338.1 YP_500339.1 YP_500340.1 YP_500341.1 YP_500342.1 YP_500343.1 YP_500344.1 YP_500345.1 YP_500346.1 YP_500347.1 YP_500348.1 YP_500349.1 YP_500350.1 YP_500351.1 YP_500352.1 YP_500353.1 YP_500354.1 YP_500355.1 YP_500356.1 YP_500357.1 YP_500358.1 YP_500359.1 YP_500360.1 YP_500361.1 YP_500362.1 YP_500363.1 YP_500364.1 YP_500365.1 YP_500366.1 YP_500367.1 YP_500368.1 YP_500369.1 YP_500370.1 YP_500371.1 YP_500372.1 YP_500373.1 YP_500374.1 YP_500375.1 YP_500376.1 YP_500377.1 YP_500378.1 YP_500379.1 YP_500380.1 YP_500381.1 YP_500382.1 YP_500385.1 YP_500386.1 YP_500387.1 YP_500388.1 YP_500389.1 YP_500390.1 YP_500391.1 YP_500392.1 YP_500393.1 YP_500394.1 YP_500395.1 YP_500396.1 YP_500397.1 YP_500398.1 YP_500399.1 YP_500400.1 YP_500401.1 YP_500402.1 YP_500403.1 YP_500404.1 YP_500405.1 YP_500408.1 YP_500409.1 YP_500410.1 YP_500411.1 YP_500412.1 YP_500413.1 YP_500414.1 YP_500415.1 YP_500416.1 YP_500417.1 YP_500418.1 YP_500419.1 YP_500420.1 YP_500421.1 YP_500422.1 YP_500423.1 YP_500424.1 YP_500425.1 YP_500426.1 YP_500427.1 YP_500429.1 YP_500430.1 YP_500431.1 YP_500432.1 YP_500433.1 YP_500434.1 YP_500435.1 YP_500436.1 YP_500437.1 YP_500438.1 YP_500439.1 YP_500440.1 YP_500441.1 YP_500442.1 YP_500444.1 YP_500445.1 YP_500446.1 YP_500447.1 YP_500448.1 YP_500449.1 YP_500450.1 YP_500451.1 YP_500452.1 YP_500453.1 YP_500454.1 YP_500455.1 YP_500456.1 YP_500457.1 YP_500459.1 YP_500460.1 YP_500461.1 YP_500462.1 YP_500463.1 YP_500464.1 YP_500465.1 YP_500466.1 YP_500467.1 YP_500468.1 YP_500469.1 YP_500470.1 YP_500471.1 YP_500472.1 YP_500473.1 YP_500474.1 YP_500475.1 YP_500476.1 YP_500477.1 YP_500478.1 YP_500479.1 YP_500480.1 YP_500481.1 YP_500482.1 YP_500483.1 YP_500484.1 YP_500485.1 YP_500486.1 YP_500487.1 YP_500488.1 YP_500489.1 YP_500494.1 YP_500495.1 YP_500496.1 YP_500497.2 YP_500498.1 YP_500499.1 YP_500500.1 YP_500501.1 YP_500502.1 YP_500503.1 YP_500505.1 YP_500506.1 YP_500507.1 YP_500508.1 YP_500509.1 YP_500510.1 YP_500511.1 YP_500512.1 YP_500513.1 YP_500514.1 YP_500515.1 YP_500516.1 YP_500517.1 YP_500518.1 YP_500519.1 YP_500520.1 YP_500521.1 YP_500522.1 YP_500523.1 YP_500524.1 YP_500525.1 YP_500526.1 YP_500527.1 YP_500528.1 YP_500529.1 YP_500530.1 YP_500531.1 YP_500532.1 YP_500533.1 YP_500534.1 YP_500535.1 YP_500536.1 YP_500537.1 YP_500538.1 YP_500539.1 YP_500540.1 YP_500541.1 YP_500542.1 YP_500543.1 YP_500544.1 YP_500545.1 YP_500546.1 YP_500547.1 YP_500548.1 YP_500549.1 YP_500550.1 YP_500551.1 YP_500552.1 YP_500553.1 YP_500554.1 YP_500555.1 YP_500556.1 YP_500557.1 YP_500558.1 YP_500559.1 YP_500560.1 YP_500561.1 YP_500562.1 YP_500563.1 YP_500564.1 YP_500565.1 YP_500566.1 YP_500567.1 YP_500569.1 YP_500570.2 YP_500571.1 YP_500572.1 YP_500573.1 YP_500574.1 YP_500575.1 YP_500576.1 YP_500577.1 YP_500578.1 YP_500579.1 YP_500580.1 YP_500581.1 YP_500582.1 YP_500583.1 YP_500584.1 YP_500585.1 YP_500586.1 YP_500587.1 YP_500588.1 YP_500589.1 YP_500590.1 YP_500591.1 YP_500592.1 YP_500593.1 YP_500595.1 YP_500596.1 YP_500597.1 YP_500598.1 YP_500599.1 YP_500600.1 YP_500601.1 YP_500602.1 YP_500603.1 YP_500604.1 YP_500605.1 YP_500606.1 YP_500607.1 YP_500608.1 YP_500609.1 YP_500610.1 YP_500611.1 YP_500612.1 YP_500613.1 YP_500614.1 YP_500615.1 YP_500616.1 YP_500617.1 YP_500618.1 YP_500619.1 YP_500620.1 YP_500621.1 YP_500622.1 YP_500623.2 YP_500624.1 YP_500625.1 YP_500626.1 YP_500627.1 YP_500628.1 YP_500629.1 YP_500630.1 YP_500631.1 YP_500632.1 YP_500633.1 YP_500634.1 YP_500635.1 YP_500636.1 YP_500637.1 YP_500638.1 YP_500639.1 YP_500640.1 YP_500641.1 YP_500642.1 YP_500643.1 YP_500644.1 YP_500645.1 YP_500646.1 YP_500647.1 YP_500648.1 YP_500649.1 YP_500650.1 YP_500652.1 YP_500654.1 YP_500655.1 YP_500656.1 YP_500657.1 YP_500658.1 YP_500659.1 YP_500660.1 YP_500661.1 YP_500662.1 YP_500663.1 YP_500664.1 YP_500665.1 YP_500666.1 YP_500667.1 YP_500668.1 YP_500669.1 YP_500670.1 YP_500671.1 YP_500672.1 YP_500673.1 YP_500674.1 YP_500675.1 YP_500676.1 YP_500677.1 YP_500678.1 YP_500679.1 YP_500680.1 YP_500681.1 YP_500682.1 YP_500683.1 YP_500684.1 YP_500685.1 YP_500687.1 YP_500688.1 YP_500689.1 YP_500690.1 YP_500691.1 YP_500692.1 YP_500693.1 YP_500694.1 YP_500695.1 YP_500696.1 YP_500697.1 YP_500698.1 YP_500699.1 YP_500700.1 YP_500701.1 YP_500702.1 YP_500703.1 YP_500704.1 YP_500705.1 YP_500706.1 YP_500707.1 YP_500708.1 YP_500709.1 YP_500710.1 YP_500711.1 YP_500712.1 YP_500713.1 YP_500716.1 YP_500717.1 YP_500718.1 YP_500719.1 YP_500720.1 YP_500721.1 YP_500722.1 YP_500723.1 YP_500725.1 YP_500726.1 YP_500727.1 YP_500728.1 YP_500729.1 YP_500730.1 YP_500731.1 YP_500732.1 YP_500733.1 YP_500734.1 YP_500736.1 YP_500737.1 YP_500738.1 YP_500739.1 YP_500740.1 YP_500741.1 YP_500742.1 YP_500743.1 YP_500744.1 YP_500745.1 YP_500746.1 YP_500747.1 YP_500748.1 YP_500749.1 YP_500750.1 YP_500751.1 YP_500752.1 YP_500753.1 YP_500754.1 YP_500755.1 YP_500756.1 YP_500757.1 YP_500758.1 YP_500759.1 YP_500760.1 YP_500761.1 YP_500762.1 YP_500763.1 YP_500764.1 YP_500765.1 YP_500766.1 YP_500767.1 YP_500768.1 YP_500769.1 YP_500770.1 YP_500771.1 YP_500773.1 YP_500774.1 YP_500775.1 YP_500776.1 YP_500777.1 YP_500778.1 YP_500781.1 YP_500782.1 YP_500783.1 YP_500784.1 YP_500785.1 YP_500786.1 YP_500787.1 YP_500788.1 YP_500789.1 YP_500790.1 YP_500791.1 YP_500792.1 YP_500793.1 YP_500794.1 YP_500795.1 YP_500796.1 YP_500797.1 YP_500798.1 YP_500799.1 YP_500800.1 YP_500801.1 YP_500802.1 YP_500803.1 YP_500804.1 YP_500805.1 YP_500806.1 YP_500807.1 YP_500808.1 YP_500809.1 YP_500810.1 YP_500811.1 YP_500812.1 YP_500813.1 YP_500814.1 YP_500815.1 YP_500816.1 YP_500817.1 YP_500818.1 YP_500819.1 YP_500820.1 YP_500821.2 YP_500822.1 YP_500823.1 YP_500824.1 YP_500825.1 YP_500826.1 YP_500827.1 YP_500828.1 YP_500829.1 YP_500830.1 YP_500831.1 YP_500832.1 YP_500833.1 YP_500834.1 YP_500835.1 YP_500836.1 YP_500837.1 YP_500838.1 YP_500839.1 YP_500840.1 YP_500841.1 YP_500842.1 YP_500843.1 YP_500844.1 YP_500845.1 YP_500846.1 YP_500848.1 YP_500849.1 YP_500850.1 YP_500851.1 YP_500852.1 YP_500853.1 YP_500854.1 YP_500855.1 YP_500856.1 YP_500857.1 YP_500858.1 YP_500859.1 YP_500860.1 YP_500861.1 YP_500862.1 YP_500863.1 YP_500864.1 YP_500865.1 YP_500866.1 YP_500867.1 YP_500868.1 YP_500870.1 YP_500871.1 YP_500873.1 YP_500874.1 YP_500875.1 YP_500876.1 YP_500877.1 YP_500878.1 YP_500879.1 YP_500880.1 YP_500881.1 YP_500882.1 YP_500883.1 YP_500884.1 YP_500886.1 YP_500887.1 YP_500888.1 YP_500890.1 YP_500891.1 YP_500892.1 YP_500893.1 YP_500894.1 YP_500895.1 YP_500896.1 YP_500897.1 YP_500898.1 YP_500899.1 YP_500900.1 YP_500901.1 YP_500902.1 YP_500903.1 YP_500904.1 YP_500905.1 YP_500909.1 YP_500910.1 YP_500911.1 YP_500912.1 YP_500913.1 YP_500914.1 YP_500915.1 YP_500916.1 YP_500917.1 YP_500918.1 YP_500919.1 YP_500920.1 YP_500921.1 YP_500922.1 YP_500923.1 YP_500924.1 YP_500925.1 YP_500926.1 YP_500927.1 YP_500928.1 YP_500929.1 YP_500930.1 YP_500931.1 YP_500932.1 YP_500933.1 YP_500935.1 YP_500936.1 YP_500937.1 YP_500938.1 YP_500939.1 YP_500940.1 YP_500941.1 YP_500942.1 YP_500943.1 YP_500944.1 YP_500946.1 YP_500947.1 YP_500948.1 YP_500949.1 YP_500950.1 YP_500951.1 YP_500952.1 YP_500953.1 YP_500954.1 YP_500955.1 YP_500956.1 YP_500957.1 YP_500958.1 YP_500959.1 YP_500960.1 YP_500961.1 YP_500962.1 YP_500963.1 YP_500964.1 YP_500965.1 YP_500966.2 YP_500967.1 YP_500968.1 YP_500969.1 YP_500970.1 YP_500971.1 YP_500972.1 YP_500973.1 YP_500974.1 YP_500975.1 YP_500976.1 YP_500977.1 YP_500978.1 YP_500979.1 YP_008530243.1 YP_500980.1 YP_500981.1 YP_500982.1 YP_500983.1 YP_500984.1 YP_500985.1 YP_500986.1 YP_500987.1 YP_500988.1 YP_500989.1 YP_500990.1 YP_500991.1 YP_500992.1 YP_500993.1 YP_500994.1 YP_500995.1 YP_500996.1 YP_500997.1 YP_500998.1 YP_500999.1 YP_501000.1 YP_501001.1 YP_501002.1 YP_501003.1 YP_501004.1 YP_501005.1 YP_501006.1 YP_501007.1 YP_501008.1 YP_501009.1 YP_501010.1 YP_501011.1 YP_501012.1 YP_501013.1 YP_501014.1 YP_501015.1 YP_501016.1 YP_501019.1 YP_501020.1 YP_501021.1 YP_501022.1 YP_501023.1 YP_501024.1 YP_501025.1 YP_501026.1 YP_501027.1 YP_501029.1 YP_501030.1 YP_501031.1 YP_501032.1 YP_501033.1 YP_501034.1 YP_501035.1 YP_501036.1 YP_501037.1 YP_501039.1 YP_501040.1 YP_501041.1 YP_501042.1 YP_501043.1 YP_501044.1 YP_501045.1 YP_501046.1 YP_501047.1 YP_501049.1 YP_501050.2 YP_501051.1 YP_501052.1 YP_501053.1 YP_501054.1 YP_501055.1 YP_501056.1 YP_501057.1 YP_501058.1 YP_501059.1 YP_501060.1 YP_501061.1 YP_501064.1 YP_501065.1 YP_501066.1 YP_501067.1 YP_501068.1 YP_501069.1 YP_501070.1 YP_501071.1 YP_501072.1 YP_501073.1 YP_501074.1 YP_501076.1 YP_501077.1 YP_501078.1 YP_501079.1 YP_501080.1 YP_501081.1 YP_501082.1 YP_501083.1 YP_501084.1 YP_501085.1 YP_501086.1 YP_501087.1 YP_501088.1 YP_501089.1 YP_501090.1 YP_501091.1 YP_501092.1 YP_501095.1 YP_501096.1 YP_501100.1 YP_501103.1 YP_501104.1 YP_501105.1 YP_501106.1 YP_501107.1 YP_501108.1 YP_501109.1 YP_501110.1 YP_501111.1 YP_501112.1 YP_501113.1 YP_501114.1 YP_501115.1 YP_501116.1 YP_501117.1 YP_501118.1 YP_501119.1 YP_501120.1 YP_501121.1 YP_501122.1 YP_501123.1 YP_501124.1 YP_501125.2 YP_501126.1 YP_501127.1 YP_501128.1 YP_501129.1 YP_501130.1 YP_501131.1 YP_501132.1 YP_501133.1 YP_501136.1 YP_501137.1 YP_501138.1 YP_501139.1 YP_501140.1 YP_501141.1 YP_501142.1 YP_501143.1 YP_501144.1 YP_501145.1 YP_501146.1 YP_501147.1 YP_501148.1 YP_501149.1 YP_501150.1 YP_501151.1 YP_501152.1 YP_501153.1 YP_501154.1 YP_501155.1 YP_501156.1 YP_501157.1 YP_501158.1 YP_501159.1 YP_501160.1 YP_501161.1 YP_501162.1 YP_501163.1 YP_501164.1 YP_501165.1 YP_501166.1 YP_501167.1 YP_501168.1 YP_501170.1 YP_501171.1 YP_501172.1 YP_501173.1 YP_501174.1 YP_501175.1 YP_501176.1 YP_501177.1 YP_501178.1 YP_501179.1 YP_501180.1 YP_501181.1 YP_501182.1 YP_501183.1 YP_501184.1 YP_501185.1 YP_501186.1 YP_501187.1 YP_501188.1 YP_501189.1 YP_501190.1 YP_501191.1 YP_501192.1 YP_501193.1 YP_501194.1 YP_501195.1 YP_501196.1 YP_501197.1 YP_501198.1 YP_501200.1 YP_501201.1 YP_501202.1 YP_501203.1 YP_501204.1 YP_501205.1 YP_501206.1 YP_501207.1 YP_501208.1 YP_501209.1 YP_501210.1 YP_501211.1 YP_501212.1 YP_501213.1 YP_501214.1 YP_501215.1 YP_501216.1 YP_501218.1 YP_501219.1 YP_501220.1 YP_501221.1 YP_501222.1 YP_501223.1 YP_501224.1 YP_501225.1 YP_501226.1 YP_501227.1 YP_501228.1 YP_501229.1 YP_501230.1 YP_501231.2 YP_501232.1 YP_501233.1 YP_501234.1 YP_501235.1 YP_501237.1 YP_501238.1 YP_501239.1 YP_501240.1 YP_501241.1 YP_501242.1 YP_501243.1 YP_501244.1 YP_501245.1 YP_501248.1 YP_501249.1 YP_501250.1 YP_501251.1 YP_501252.1 YP_501253.1 YP_501254.1 YP_501255.1 YP_501256.1 YP_501257.1 YP_501258.1 YP_501259.1 YP_501260.1 YP_501261.1 YP_501262.1 YP_501263.1 YP_501264.1 YP_501265.1 YP_501266.1 YP_501267.1 YP_501268.1 YP_501269.1 YP_501270.1 YP_501273.1 YP_501274.1 YP_501275.1 YP_501276.1 YP_501277.1 YP_501278.1 YP_501279.1 YP_501280.1 YP_501282.1 YP_501283.1 YP_501284.1 YP_501285.1 YP_501286.1 YP_501287.1 YP_501288.1 YP_501289.1 YP_501290.1 YP_501291.1 YP_501292.1 YP_501293.1 YP_501294.1 YP_501295.1 YP_501296.1 YP_501297.1 YP_501298.1 YP_501299.1 YP_501300.1 YP_501301.1 YP_501302.1 YP_501303.1 YP_501304.1 YP_501305.1 YP_501306.1 YP_501307.1 YP_501308.1 YP_501309.1 YP_501310.1 YP_501311.1 YP_501312.1 YP_501313.1 YP_501314.1 YP_501315.1 YP_501316.1 YP_501317.1 YP_501318.1 YP_501319.1 YP_501320.1 YP_501321.1 YP_501322.1 YP_501323.1 YP_501324.1 YP_501325.1 YP_501326.1 YP_501327.1 YP_501328.1 YP_501329.1 YP_501330.1 YP_501331.1 YP_501332.1 YP_501333.1 YP_501334.1 YP_501335.1 YP_501336.1 YP_501337.1 YP_501338.1 YP_501339.1 YP_501340.1 YP_501341.1 YP_501342.1 YP_501343.1 YP_501344.1 YP_501345.1 YP_501346.1 YP_501347.1 YP_501348.1 YP_501349.1 YP_501350.1 YP_501351.1 YP_501352.1 YP_501353.1 YP_501354.1 YP_501357.1 YP_501358.1 YP_501359.1 YP_501360.1 YP_501361.1 YP_501362.1 YP_501363.1 YP_501364.1 YP_501365.1 YP_501366.1 YP_501367.1 YP_501368.1 YP_501369.1 YP_501370.1 YP_501371.1 YP_501372.1 YP_501373.1 YP_501374.1 YP_501376.1 YP_501377.1 YP_501378.1 YP_501379.1 YP_501380.1 YP_501381.1 YP_501382.1 YP_501383.1 YP_501384.1 YP_501385.1 YP_501386.1 YP_501387.1 YP_501388.1 YP_501389.1 YP_501390.2 YP_501391.1 YP_501392.1 YP_501393.1 YP_501394.1 YP_501395.1 YP_501396.1 YP_501397.1 YP_501398.1 YP_501399.1 YP_501400.1 YP_501401.1 YP_501402.1 YP_501404.1 YP_501405.1 YP_501406.1 YP_501407.1 YP_501408.1 YP_501410.1 YP_501411.1 YP_501412.1 YP_501413.1 YP_501414.1 YP_501415.1 YP_501416.1 YP_501417.1 YP_501418.1 YP_501419.1 YP_501420.1 YP_501421.1 YP_501422.1 YP_501423.1 YP_501424.1 YP_501425.1 YP_501426.1 YP_501427.1 YP_501428.1 YP_501429.1 YP_501430.1 YP_501431.1 YP_501432.1 YP_501433.1 YP_501434.1 YP_501435.1 YP_501436.1 YP_501437.1 YP_501438.1 YP_501439.1 YP_501440.1 YP_501441.1 YP_501442.1 YP_501443.1 YP_501444.1 YP_501445.1 YP_501446.1 YP_501447.1 YP_501448.1 YP_501449.1 YP_501450.1 YP_501451.1 YP_501452.1 YP_501453.1 YP_501454.1 YP_501455.1 YP_501457.1 YP_501458.1 YP_501459.1 YP_501460.1 YP_501461.1 YP_501462.1 YP_501463.1 YP_501464.1 YP_501465.1 YP_501466.1 YP_501467.1 YP_501468.1 YP_501469.1 YP_501470.1 YP_501471.1 YP_501472.1 YP_501473.1 YP_501474.1 YP_501475.1 YP_501476.1 YP_501477.1 YP_501478.1 YP_501479.1 YP_501480.1 YP_501481.1 YP_501482.1 YP_501483.1 YP_501484.1 YP_501485.1 YP_008530244.1 YP_501487.1 YP_501488.1 YP_501489.1 YP_008530245.1 YP_501491.1 YP_501492.1 YP_501493.1 YP_501494.1 YP_501495.1 YP_501496.1 YP_501497.2 YP_501498.1 YP_501499.1 YP_501500.1']}\n"
     ]
    }
   ],
   "source": [
    "#mapping_uniprot = uniprot_id_mapping(DF_annot.ncbi_protein.fillna(''),input_id='EMBL',output_id='ACC',\n",
    "#                             input_name='ncbi_protein',output_name='uniprot')\n",
    "#mapping_uniprot.head()\n",
    "\n",
    "\n",
    "#mapping_uniprot = uniprot_id_mapping(DF_annot.ncbi_protein.fillna(''),input_id='P_REFSEQ_AC',output_id='ACC',\n",
    "#                                     input_name='ncbi_protein',output_name='uniprot')\n",
    "#mapping_uniprot.head()\n",
    "\n",
    "import json\n",
    "import requests\n",
    "import time\n",
    "\n",
    "URL = 'https://rest.uniprot.org/idmapping'\n",
    "IDS = DF_annot.ncbi_protein.fillna('').values.tolist()\n",
    "\n",
    "\n",
    "params = {\n",
    "   'from': 'UniProtKB_AC-ID',\n",
    "   'to': 'ChEMBL',\n",
    "   'ids': ' '.join(IDS)\n",
    "}\n",
    "\n",
    "response = requests.post(f'{URL}/run', params)\n",
    "job_id = response.json()['jobId']\n",
    "job_status = requests.get(f'{URL}/status/{job_id}')\n",
    "d = job_status.json()\n",
    "\n",
    "# Make three attemps to get the results\n",
    "for i in range(3):\n",
    "    if d.get(\"job_status\") == 'FINISHED' or d.get('results'):\n",
    "        job_results = requests.get(f'{URL}/results/{job_id}')\n",
    "        results = job_results.json()\n",
    "        for obj in results['results']:\n",
    "            print(f'{obj[\"from\"]}\\t{obj[\"to\"]}')\n",
    "        break\n",
    "    time.sleep(1)\n",
    "#print(IDS)\n",
    "#print(response.json())\n",
    "print(job_status.json())"
   ]
  },
  {
   "cell_type": "code",
   "execution_count": 23,
   "metadata": {},
   "outputs": [
    {
     "ename": "NameError",
     "evalue": "name 'mapping_uniprot' is not defined",
     "output_type": "error",
     "traceback": [
      "\u001b[1;31m---------------------------------------------------------------------------\u001b[0m",
      "\u001b[1;31mNameError\u001b[0m                                 Traceback (most recent call last)",
      "\u001b[1;32m~\\AppData\\Local\\Temp\\ipykernel_3652\\3674106361.py\u001b[0m in \u001b[0;36m<module>\u001b[1;34m\u001b[0m\n\u001b[0;32m      1\u001b[0m \u001b[1;31m# Merge with current annotation\u001b[0m\u001b[1;33m\u001b[0m\u001b[1;33m\u001b[0m\u001b[0m\n\u001b[1;32m----> 2\u001b[1;33m \u001b[0mDF_annot\u001b[0m \u001b[1;33m=\u001b[0m \u001b[0mpd\u001b[0m\u001b[1;33m.\u001b[0m\u001b[0mmerge\u001b[0m\u001b[1;33m(\u001b[0m\u001b[0mDF_annot\u001b[0m\u001b[1;33m.\u001b[0m\u001b[0mreset_index\u001b[0m\u001b[1;33m(\u001b[0m\u001b[1;33m)\u001b[0m\u001b[1;33m,\u001b[0m\u001b[0mmapping_uniprot\u001b[0m\u001b[1;33m,\u001b[0m\u001b[0mhow\u001b[0m\u001b[1;33m=\u001b[0m\u001b[1;34m'left'\u001b[0m\u001b[1;33m,\u001b[0m\u001b[0mon\u001b[0m\u001b[1;33m=\u001b[0m\u001b[1;34m'ncbi_protein'\u001b[0m\u001b[1;33m)\u001b[0m\u001b[1;33m\u001b[0m\u001b[1;33m\u001b[0m\u001b[0m\n\u001b[0m\u001b[0;32m      3\u001b[0m \u001b[0mDF_annot\u001b[0m\u001b[1;33m.\u001b[0m\u001b[0mset_index\u001b[0m\u001b[1;33m(\u001b[0m\u001b[1;34m'locus_tag'\u001b[0m\u001b[1;33m,\u001b[0m\u001b[0minplace\u001b[0m\u001b[1;33m=\u001b[0m\u001b[1;32mTrue\u001b[0m\u001b[1;33m)\u001b[0m\u001b[1;33m\u001b[0m\u001b[1;33m\u001b[0m\u001b[0m\n\u001b[0;32m      4\u001b[0m \u001b[0mDF_annot\u001b[0m\u001b[1;33m.\u001b[0m\u001b[0mhead\u001b[0m\u001b[1;33m(\u001b[0m\u001b[1;33m)\u001b[0m\u001b[1;33m\u001b[0m\u001b[1;33m\u001b[0m\u001b[0m\n",
      "\u001b[1;31mNameError\u001b[0m: name 'mapping_uniprot' is not defined"
     ]
    }
   ],
   "source": [
    "# Merge with current annotation\n",
    "DF_annot = pd.merge(DF_annot.reset_index(),mapping_uniprot,how='left',on='ncbi_protein')\n",
    "DF_annot.set_index('locus_tag',inplace=True)\n",
    "DF_annot.head()"
   ]
  },
  {
   "cell_type": "markdown",
   "metadata": {},
   "source": [
    "## Add Biocyc Operon information"
   ]
  },
  {
   "cell_type": "markdown",
   "metadata": {},
   "source": [
    "To obtain operon information from Biocyc, follow the steps below\n",
    "\n",
    "1. Go to [Biocyc.org](https://biocyc.org/) (you may need to create an account and/or login)\n",
    "2. Change the organism database to your organism/strain\n",
    "3. Select **SmartTables** -> **Special SmartTables**\n",
    "4. Select **\"All genes of \\<organism\\>\"**\n",
    "5. Select the **\"Gene Name\"** column\n",
    "6. Under **\"ADD TRANSFORM COLUMN\"** select **\"Genes in same transcription unit\"**\n",
    "7. Select the **\"Genes in same transcription unit\"** column\n",
    "8. Under **\"ADD PROPERTY COLUMN\"** select **\"Accession-1\"**\n",
    "9. Under **OPERATIONS**, select **\"Export\"** -> **\"to Spreadsheet File...\"**\n",
    "10. Select **\"common names\"** and click **\"Export smarttable\"**\n",
    "11. Add file location below and run the code cell"
   ]
  },
  {
   "cell_type": "code",
   "execution_count": null,
   "metadata": {},
   "outputs": [],
   "source": [
    "biocyc_file = os.path.join('..','data','external','biocyc_annotations.txt')\n",
    "\n",
    "DF_biocyc = pd.read_csv(biocyc_file,sep='\\t')\n",
    "\n",
    "# Remove genes with no accession\n",
    "DF_biocyc = DF_biocyc[DF_biocyc['Accession-1'].notnull()]\n",
    "\n",
    "# Set the accession (i.e. locus tag) as index\n",
    "DF_biocyc = DF_biocyc.set_index('Accession-1').sort_values('Left-End-Position')\n",
    "\n",
    "# Specific for B. subtilis: Fix locus tags\n",
    "DF_biocyc.index = DF_biocyc.index.str.replace('BSU','BSU_')\n",
    "\n",
    "# Only keep genes in the final annotation file\n",
    "DF_biocyc = DF_biocyc.reindex(DF_annot.index)\n",
    "\n",
    "# Reformat transcription units\n",
    "DF_biocyc['operon_list'] = DF_biocyc['Accession-1.1'].apply(reformat_biocyc_tu)\n",
    "\n",
    "# Fill None with locus tags\n",
    "DF_biocyc['operon_list'].fillna(DF_biocyc.index.to_series(), inplace=True)\n",
    "\n",
    "DF_biocyc.head()"
   ]
  },
  {
   "cell_type": "markdown",
   "metadata": {},
   "source": [
    "### Assign unique IDs to operons"
   ]
  },
  {
   "cell_type": "markdown",
   "metadata": {},
   "source": [
    "The following code assigns unique names to each operon"
   ]
  },
  {
   "cell_type": "code",
   "execution_count": null,
   "metadata": {},
   "outputs": [],
   "source": [
    "# Get all operons\n",
    "operons = DF_biocyc['operon_list'].unique()\n",
    "\n",
    "# Map each operon to a unique string\n",
    "operon_dict = {operon: \"Op\"+str(i) for i, operon in enumerate(operons)}\n",
    "\n",
    "# Add names to dataframe\n",
    "DF_biocyc['operon'] = [operon_dict[op] for op in DF_biocyc[\"operon_list\"]]\n",
    "\n",
    "DF_biocyc.head()"
   ]
  },
  {
   "cell_type": "markdown",
   "metadata": {},
   "source": [
    "Finally, merge the Biocyc information with the main annotation DataFrame"
   ]
  },
  {
   "cell_type": "code",
   "execution_count": null,
   "metadata": {},
   "outputs": [],
   "source": [
    "DF_annot['operon'] = DF_biocyc['operon']"
   ]
  },
  {
   "cell_type": "markdown",
   "metadata": {},
   "source": [
    "## Clean up and save annotation"
   ]
  },
  {
   "cell_type": "markdown",
   "metadata": {},
   "source": [
    "First, we will re-order the annotation columns"
   ]
  },
  {
   "cell_type": "code",
   "execution_count": null,
   "metadata": {},
   "outputs": [],
   "source": [
    "if 'old_locus_tag' in DF_annot.columns:\n",
    "    order = ['gene_name','accession','old_locus_tag','start','end','strand','gene_product','COG','uniprot','operon']\n",
    "else:\n",
    "    order = ['gene_name','accession','start','end','strand','gene_product','COG','uniprot','operon']\n",
    "    \n",
    "DF_annot = DF_annot[order]"
   ]
  },
  {
   "cell_type": "code",
   "execution_count": null,
   "metadata": {},
   "outputs": [],
   "source": [
    "DF_annot.head()"
   ]
  },
  {
   "cell_type": "markdown",
   "metadata": {},
   "source": [
    "## Final statistics"
   ]
  },
  {
   "cell_type": "markdown",
   "metadata": {},
   "source": [
    "The following graphs show how much information is available for the organism."
   ]
  },
  {
   "cell_type": "code",
   "execution_count": null,
   "metadata": {},
   "outputs": [],
   "source": [
    "import seaborn as sns\n",
    "import matplotlib.pyplot as plt\n",
    "\n",
    "sns.set_style('ticks')"
   ]
  },
  {
   "cell_type": "code",
   "execution_count": null,
   "metadata": {},
   "outputs": [],
   "source": [
    "fig,ax = plt.subplots()\n",
    "DF_annot.count().plot(kind='bar',ax=ax)\n",
    "ax.set_ylabel('# of Values',fontsize=18)\n",
    "ax.tick_params(labelsize=16)"
   ]
  },
  {
   "cell_type": "markdown",
   "metadata": {},
   "source": [
    "## Fill missing values"
   ]
  },
  {
   "cell_type": "markdown",
   "metadata": {},
   "source": [
    "Some organisms are missing gene names, so these will be filled with locus tag gene names."
   ]
  },
  {
   "cell_type": "code",
   "execution_count": null,
   "metadata": {
    "code_folding": []
   },
   "outputs": [],
   "source": [
    "# Fill in missing gene names with locus tag names\n",
    "DF_annot['tmp_name'] = DF_annot.copy().index.tolist()\n",
    "DF_annot.gene_name.fillna(DF_annot.tmp_name,inplace=True)\n",
    "DF_annot.drop('tmp_name',axis=1,inplace=True)"
   ]
  },
  {
   "cell_type": "markdown",
   "metadata": {},
   "source": [
    " COG letters will also be converted to the full name."
   ]
  },
  {
   "cell_type": "code",
   "execution_count": null,
   "metadata": {},
   "outputs": [],
   "source": [
    "# Fill missing COGs with X\n",
    "DF_annot['COG'].fillna('X',inplace=True)\n",
    "\n",
    "# Change single letter COG annotation to full description\n",
    "DF_annot['COG'] = DF_annot.COG.apply(cog2str)\n",
    "\n",
    "counts = DF_annot.COG.value_counts()\n",
    "plt.pie(counts.values,labels=counts.index);"
   ]
  },
  {
   "cell_type": "markdown",
   "metadata": {},
   "source": [
    "Uncomment the following line to save the gene annotation dataset"
   ]
  },
  {
   "cell_type": "code",
   "execution_count": null,
   "metadata": {},
   "outputs": [],
   "source": [
    "DF_annot.to_csv(os.path.join('..','data','processed_data','gene_info.csv'))"
   ]
  },
  {
   "cell_type": "markdown",
   "metadata": {},
   "source": [
    "## GO Annotations"
   ]
  },
  {
   "cell_type": "markdown",
   "metadata": {},
   "source": [
    "To start, download the GO Annotations for your organism from AmiGO 2\n",
    "\n",
    "1. Go to [AmiGO 2](http://amigo.geneontology.org/amigo/search/annotation)\n",
    "1. Filter for your organism\n",
    "1. Click ``CustomDL``\n",
    "1. Drag ``GO class (direct)`` to the end of your Selected Fields\n",
    "1. Enter the location of your GO annotation file below and run the following code block"
   ]
  },
  {
   "cell_type": "code",
   "execution_count": null,
   "metadata": {},
   "outputs": [],
   "source": [
    "go_file = os.path.join('..','data','external','GO_annotations.txt')"
   ]
  },
  {
   "cell_type": "code",
   "execution_count": null,
   "metadata": {},
   "outputs": [],
   "source": [
    "DF_GO = pd.read_csv(go_file,sep='\\t',header=None,usecols=[2,17])\n",
    "DF_GO.columns = ['gene_name','gene_ontology']\n",
    "DF_GO.head()"
   ]
  },
  {
   "cell_type": "markdown",
   "metadata": {},
   "source": [
    "Convert the gene names to gene locus tags, and drop gene names that cannot be converted"
   ]
  },
  {
   "cell_type": "code",
   "execution_count": null,
   "metadata": {},
   "outputs": [],
   "source": [
    "name2num = {v:k for k,v in DF_annot.gene_name.to_dict().items()}"
   ]
  },
  {
   "cell_type": "code",
   "execution_count": null,
   "metadata": {},
   "outputs": [],
   "source": [
    "DF_GO['gene_id'] = [name2num[x] if x in name2num.keys() else None for x in DF_GO.gene_name]"
   ]
  },
  {
   "cell_type": "code",
   "execution_count": null,
   "metadata": {},
   "outputs": [],
   "source": [
    "DF_GO.head()"
   ]
  },
  {
   "cell_type": "markdown",
   "metadata": {},
   "source": [
    "Now we remove null entries"
   ]
  },
  {
   "cell_type": "code",
   "execution_count": null,
   "metadata": {},
   "outputs": [],
   "source": [
    "DF_GO = DF_GO[DF_GO.gene_id.notnull()]"
   ]
  },
  {
   "cell_type": "code",
   "execution_count": null,
   "metadata": {},
   "outputs": [],
   "source": [
    "DF_GO.head()"
   ]
  },
  {
   "cell_type": "markdown",
   "metadata": {},
   "source": [
    "Uncomment the line below to save the annotations"
   ]
  },
  {
   "cell_type": "code",
   "execution_count": null,
   "metadata": {},
   "outputs": [],
   "source": [
    "DF_GO[['gene_id','gene_name','gene_ontology']].to_csv(os.path.join('..','data','external','GO_annotations_curated.csv'))"
   ]
  },
  {
   "cell_type": "code",
   "execution_count": null,
   "metadata": {},
   "outputs": [],
   "source": []
  }
 ],
 "metadata": {
  "kernelspec": {
   "display_name": "Python 3 (ipykernel)",
   "language": "python",
   "name": "python3"
  },
  "language_info": {
   "codemirror_mode": {
    "name": "ipython",
    "version": 3
   },
   "file_extension": ".py",
   "mimetype": "text/x-python",
   "name": "python",
   "nbconvert_exporter": "python",
   "pygments_lexer": "ipython3",
   "version": "3.9.13"
  },
  "toc": {
   "base_numbering": 1,
   "nav_menu": {},
   "number_sections": true,
   "sideBar": true,
   "skip_h1_title": false,
   "title_cell": "Table of Contents",
   "title_sidebar": "Contents",
   "toc_cell": true,
   "toc_position": {},
   "toc_section_display": true,
   "toc_window_display": false
  }
 },
 "nbformat": 4,
 "nbformat_minor": 2
}
